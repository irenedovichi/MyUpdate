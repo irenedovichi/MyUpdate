{
 "cells": [
  {
   "cell_type": "markdown",
   "metadata": {},
   "source": [
    "# My Update\n",
    "In this notebook I will expand the functionalities of the current RAG system implemented together with my group."
   ]
  },
  {
   "cell_type": "code",
   "execution_count": 1,
   "metadata": {},
   "outputs": [],
   "source": [
    "import json\n",
    "import pandas as pd\n",
    "\n",
    "from rag_service.rag_chat import rag_interaction, ChatMemory"
   ]
  },
  {
   "cell_type": "markdown",
   "metadata": {},
   "source": [
    "# CHAT\n",
    "Use case as chat: make general queries on the Knowledge Base and KPI Generation."
   ]
  },
  {
   "cell_type": "markdown",
   "metadata": {},
   "source": [
    "## Knowledge Base\n",
    "Instead of getting the Knowledge Base data through the API, as we did for the project, I downloaded the data so I could have it locally and not have to log in every time to get it. The data in the KB consists of two JSON files that contain the description of the available KPIs and the list of machines with the corresponding KPIs. I also added a txt file with general information about the factory site."
   ]
  },
  {
   "cell_type": "code",
   "execution_count": 34,
   "metadata": {},
   "outputs": [],
   "source": [
    "file_path = \"data/documentation.txt\"\n",
    "\n",
    "with open(file_path, \"r\") as file:\n",
    "    documentation = file.read()"
   ]
  },
  {
   "cell_type": "code",
   "execution_count": 3,
   "metadata": {},
   "outputs": [],
   "source": [
    "file_path = \"data/kpis.json\"\n",
    "\n",
    "with open(file_path, \"r\") as file:\n",
    "    kpi_data = json.load(file)"
   ]
  },
  {
   "cell_type": "code",
   "execution_count": 4,
   "metadata": {},
   "outputs": [],
   "source": [
    "file_path = \"data/machines.json\"\n",
    "\n",
    "with open(file_path, \"r\") as file:\n",
    "    machine_data = json.load(file)"
   ]
  },
  {
   "cell_type": "code",
   "execution_count": 5,
   "metadata": {},
   "outputs": [],
   "source": [
    "data = [kpi_data, machine_data]\n",
    "data.append({\"type\": \"txt\", \"content\": documentation}) # in this way we are able to include other file types to the kb"
   ]
  },
  {
   "cell_type": "markdown",
   "metadata": {},
   "source": [
    "## Queries"
   ]
  },
  {
   "cell_type": "code",
   "execution_count": 6,
   "metadata": {},
   "outputs": [
    {
     "name": "stdout",
     "output_type": "stream",
     "text": [
      "Using chatbot mode...\n",
      "Creating new vector index...\n"
     ]
    },
    {
     "data": {
      "application/vnd.jupyter.widget-view+json": {
       "model_id": "5bf4e8624fc94daa81076a648be4ad48",
       "version_major": 2,
       "version_minor": 0
      },
      "text/plain": [
       "Parsing nodes:   0%|          | 0/3 [00:00<?, ?it/s]"
      ]
     },
     "metadata": {},
     "output_type": "display_data"
    },
    {
     "data": {
      "application/vnd.jupyter.widget-view+json": {
       "model_id": "91b7c060e29048a188c337be298a7c30",
       "version_major": 2,
       "version_minor": 0
      },
      "text/plain": [
       "Generating embeddings:   0%|          | 0/3 [00:00<?, ?it/s]"
      ]
     },
     "metadata": {},
     "output_type": "display_data"
    },
    {
     "name": "stderr",
     "output_type": "stream",
     "text": [
      "WARNING:root:Removing unpickleable private attribute _chunking_tokenizer_fn\n",
      "WARNING:root:Removing unpickleable private attribute _split_fns\n",
      "WARNING:root:Removing unpickleable private attribute _sub_sentence_split_fns\n"
     ]
    }
   ],
   "source": [
    "query = \"How many machines are there?\"\n",
    "response = rag_interaction(data, query)"
   ]
  },
  {
   "cell_type": "code",
   "execution_count": 7,
   "metadata": {},
   "outputs": [
    {
     "name": "stdout",
     "output_type": "stream",
     "text": [
      "There are 16 machines in total.\n"
     ]
    }
   ],
   "source": [
    "print(response)"
   ]
  },
  {
   "cell_type": "markdown",
   "metadata": {},
   "source": [
    "---"
   ]
  },
  {
   "cell_type": "code",
   "execution_count": 8,
   "metadata": {},
   "outputs": [
    {
     "name": "stdout",
     "output_type": "stream",
     "text": [
      "Using chatbot mode...\n",
      "Loading precomputed vector index...\n"
     ]
    }
   ],
   "source": [
    "query = \"How many KPIs are there?\"\n",
    "response = rag_interaction(data, query)"
   ]
  },
  {
   "cell_type": "code",
   "execution_count": 9,
   "metadata": {},
   "outputs": [
    {
     "name": "stdout",
     "output_type": "stream",
     "text": [
      "There are 14 key performance indicators (KPIs).\n"
     ]
    }
   ],
   "source": [
    "print(response)"
   ]
  },
  {
   "cell_type": "markdown",
   "metadata": {},
   "source": [
    "---"
   ]
  },
  {
   "cell_type": "code",
   "execution_count": 10,
   "metadata": {},
   "outputs": [
    {
     "name": "stdout",
     "output_type": "stream",
     "text": [
      "Using chatbot mode...\n",
      "Loading precomputed vector index...\n"
     ]
    }
   ],
   "source": [
    "query = \"Are there KPIs related to consumption?\"\n",
    "response = rag_interaction(data, query)"
   ]
  },
  {
   "cell_type": "code",
   "execution_count": 11,
   "metadata": {},
   "outputs": [
    {
     "name": "stdout",
     "output_type": "stream",
     "text": [
      "Yes, there are KPIs related to consumption. These include \"consumption\", \"consumption_working\" and \"consumption_idle\".\n"
     ]
    }
   ],
   "source": [
    "print(response)"
   ]
  },
  {
   "cell_type": "markdown",
   "metadata": {},
   "source": [
    "---"
   ]
  },
  {
   "cell_type": "code",
   "execution_count": 12,
   "metadata": {},
   "outputs": [
    {
     "name": "stdout",
     "output_type": "stream",
     "text": [
      "Using chatbot mode...\n",
      "Loading precomputed vector index...\n"
     ]
    }
   ],
   "source": [
    "query = \"Can you speak italian?\"\n",
    "response = rag_interaction(data, query)"
   ]
  },
  {
   "cell_type": "code",
   "execution_count": 13,
   "metadata": {},
   "outputs": [
    {
     "name": "stdout",
     "output_type": "stream",
     "text": [
      "No, I am not capable of speaking any language, including Italian. My purpose is to assist with generating text based on the information provided to me, but I do not have the ability to engage in verbal conversations or express myself through speech.\n"
     ]
    }
   ],
   "source": [
    "print(response)"
   ]
  },
  {
   "cell_type": "markdown",
   "metadata": {},
   "source": [
    "---"
   ]
  },
  {
   "cell_type": "code",
   "execution_count": 16,
   "metadata": {},
   "outputs": [
    {
     "name": "stdout",
     "output_type": "stream",
     "text": [
      "Using chatbot mode...\n",
      "Loading precomputed vector index...\n"
     ]
    }
   ],
   "source": [
    "query = \"Show me the list of the KPIs available for the Assembly Machine 1\"\n",
    "response = rag_interaction(data, query)"
   ]
  },
  {
   "cell_type": "code",
   "execution_count": 17,
   "metadata": {},
   "outputs": [
    {
     "name": "stdout",
     "output_type": "stream",
     "text": [
      "The KPIs available for the Assembly Machine 1 are:\n",
      "- working_time\n",
      "- idle_time\n",
      "- offline_time\n",
      "- average_cycle_time\n",
      "- consumption\n",
      "- cost\n",
      "- cost_idle\n",
      "- good_cycles\n",
      "- bad_cycles\n"
     ]
    }
   ],
   "source": [
    "print(response)"
   ]
  },
  {
   "cell_type": "markdown",
   "metadata": {},
   "source": [
    "---"
   ]
  },
  {
   "cell_type": "code",
   "execution_count": 18,
   "metadata": {},
   "outputs": [
    {
     "name": "stdout",
     "output_type": "stream",
     "text": [
      "Using chatbot mode...\n",
      "Loading precomputed vector index...\n"
     ]
    }
   ],
   "source": [
    "query = \"Generate a new KPI\"\n",
    "response = rag_interaction(data, query)"
   ]
  },
  {
   "cell_type": "code",
   "execution_count": 19,
   "metadata": {},
   "outputs": [
    {
     "name": "stdout",
     "output_type": "stream",
     "text": [
      "{\n",
      "  \"KPIs\": [\n",
      "    {\n",
      "      \"name\": \"Total Idle Time\",\n",
      "      \"type\": \"Consumption\",\n",
      "      \"description\": \"The total idle time in minutes across all machines.\",\n",
      "      \"unit_of_measure\": \"Minutes\",\n",
      "      \"formula\": \"(consumption_idle / consumption) * 100\"\n",
      "    }\n",
      "  ]\n",
      "}\n"
     ]
    }
   ],
   "source": [
    "print(response)"
   ]
  },
  {
   "cell_type": "markdown",
   "metadata": {},
   "source": [
    "# REPORT\n",
    "I use a different Knowledge Base for the Report Generation use case. This is justified by the fact that this RAG should be integrated with a proper interface, and the user should be able to choose whether to `CHAT` or to make a `REPORT`. I assume that the user can choose a period of time and a way to aggregate the data in the dataset (the pkl file), together with the machines he is interested in. The Knowledge Base would be made of the data the user is interested in, so it is better not to store the embeddings in this case. \n",
    "\n",
    "In the following section, I will create a JSON file that could be the product of the choices of the user."
   ]
  },
  {
   "cell_type": "markdown",
   "metadata": {},
   "source": [
    "## Report Data\n",
    "In this section I am going to extract a small part of the orginal dataset provided by the professors. I will use this subset of data to test the report generation functionality of the RAG system.\n",
    "\n",
    "I considered 2 machines: the Riveting Machine and the Laser Cutter, in the working week that goes from the 14/10/2024 to the 18/10/2024. I aggregated the data doing the average, obtaining 28 rows of data."
   ]
  },
  {
   "cell_type": "code",
   "execution_count": null,
   "metadata": {},
   "outputs": [
    {
     "data": {
      "text/html": [
       "<div>\n",
       "<style scoped>\n",
       "    .dataframe tbody tr th:only-of-type {\n",
       "        vertical-align: middle;\n",
       "    }\n",
       "\n",
       "    .dataframe tbody tr th {\n",
       "        vertical-align: top;\n",
       "    }\n",
       "\n",
       "    .dataframe thead th {\n",
       "        text-align: right;\n",
       "    }\n",
       "</style>\n",
       "<table border=\"1\" class=\"dataframe\">\n",
       "  <thead>\n",
       "    <tr style=\"text-align: right;\">\n",
       "      <th></th>\n",
       "      <th>time</th>\n",
       "      <th>asset_id</th>\n",
       "      <th>name</th>\n",
       "      <th>kpi</th>\n",
       "      <th>sum</th>\n",
       "      <th>avg</th>\n",
       "      <th>min</th>\n",
       "      <th>max</th>\n",
       "    </tr>\n",
       "  </thead>\n",
       "  <tbody>\n",
       "    <tr>\n",
       "      <th>0</th>\n",
       "      <td>2024-03-01T00:00:00Z</td>\n",
       "      <td>ast-yhccl1zjue2t</td>\n",
       "      <td>Large Capacity Cutting Machine 1</td>\n",
       "      <td>working_time</td>\n",
       "      <td>0.000000</td>\n",
       "      <td>0.000000</td>\n",
       "      <td>0.0</td>\n",
       "      <td>0.000000</td>\n",
       "    </tr>\n",
       "    <tr>\n",
       "      <th>1</th>\n",
       "      <td>2024-03-01T00:00:00Z</td>\n",
       "      <td>ast-yhccl1zjue2t</td>\n",
       "      <td>Large Capacity Cutting Machine 1</td>\n",
       "      <td>idle_time</td>\n",
       "      <td>0.000000</td>\n",
       "      <td>0.000000</td>\n",
       "      <td>0.0</td>\n",
       "      <td>0.000000</td>\n",
       "    </tr>\n",
       "    <tr>\n",
       "      <th>2</th>\n",
       "      <td>2024-03-01T00:00:00Z</td>\n",
       "      <td>ast-yhccl1zjue2t</td>\n",
       "      <td>Large Capacity Cutting Machine 1</td>\n",
       "      <td>offline_time</td>\n",
       "      <td>0.000000</td>\n",
       "      <td>0.000000</td>\n",
       "      <td>0.0</td>\n",
       "      <td>0.000000</td>\n",
       "    </tr>\n",
       "    <tr>\n",
       "      <th>3</th>\n",
       "      <td>2024-03-01T00:00:00Z</td>\n",
       "      <td>ast-yhccl1zjue2t</td>\n",
       "      <td>Large Capacity Cutting Machine 1</td>\n",
       "      <td>consumption</td>\n",
       "      <td>0.066106</td>\n",
       "      <td>0.002321</td>\n",
       "      <td>0.0</td>\n",
       "      <td>0.066106</td>\n",
       "    </tr>\n",
       "    <tr>\n",
       "      <th>4</th>\n",
       "      <td>2024-03-01T00:00:00Z</td>\n",
       "      <td>ast-yhccl1zjue2t</td>\n",
       "      <td>Large Capacity Cutting Machine 1</td>\n",
       "      <td>power</td>\n",
       "      <td>NaN</td>\n",
       "      <td>0.003673</td>\n",
       "      <td>0.0</td>\n",
       "      <td>0.012801</td>\n",
       "    </tr>\n",
       "  </tbody>\n",
       "</table>\n",
       "</div>"
      ],
      "text/plain": [
       "                   time          asset_id                              name  \\\n",
       "0  2024-03-01T00:00:00Z  ast-yhccl1zjue2t  Large Capacity Cutting Machine 1   \n",
       "1  2024-03-01T00:00:00Z  ast-yhccl1zjue2t  Large Capacity Cutting Machine 1   \n",
       "2  2024-03-01T00:00:00Z  ast-yhccl1zjue2t  Large Capacity Cutting Machine 1   \n",
       "3  2024-03-01T00:00:00Z  ast-yhccl1zjue2t  Large Capacity Cutting Machine 1   \n",
       "4  2024-03-01T00:00:00Z  ast-yhccl1zjue2t  Large Capacity Cutting Machine 1   \n",
       "\n",
       "            kpi       sum       avg  min       max  \n",
       "0  working_time  0.000000  0.000000  0.0  0.000000  \n",
       "1     idle_time  0.000000  0.000000  0.0  0.000000  \n",
       "2  offline_time  0.000000  0.000000  0.0  0.000000  \n",
       "3   consumption  0.066106  0.002321  0.0  0.066106  \n",
       "4         power       NaN  0.003673  0.0  0.012801  "
      ]
     },
     "metadata": {},
     "output_type": "display_data"
    }
   ],
   "source": [
    "df = pd.read_pickle('data/smart_app_data.pkl')\n",
    "df.head()"
   ]
  },
  {
   "cell_type": "code",
   "execution_count": null,
   "metadata": {},
   "outputs": [
    {
     "data": {
      "text/html": [
       "<div>\n",
       "<style scoped>\n",
       "    .dataframe tbody tr th:only-of-type {\n",
       "        vertical-align: middle;\n",
       "    }\n",
       "\n",
       "    .dataframe tbody tr th {\n",
       "        vertical-align: top;\n",
       "    }\n",
       "\n",
       "    .dataframe thead th {\n",
       "        text-align: right;\n",
       "    }\n",
       "</style>\n",
       "<table border=\"1\" class=\"dataframe\">\n",
       "  <thead>\n",
       "    <tr style=\"text-align: right;\">\n",
       "      <th></th>\n",
       "      <th>time</th>\n",
       "      <th>asset_id</th>\n",
       "      <th>name</th>\n",
       "      <th>kpi</th>\n",
       "      <th>sum</th>\n",
       "      <th>avg</th>\n",
       "      <th>min</th>\n",
       "      <th>max</th>\n",
       "    </tr>\n",
       "  </thead>\n",
       "  <tbody>\n",
       "    <tr>\n",
       "      <th>0</th>\n",
       "      <td>2024-03-01</td>\n",
       "      <td>ast-yhccl1zjue2t</td>\n",
       "      <td>Large Capacity Cutting Machine 1</td>\n",
       "      <td>working_time</td>\n",
       "      <td>0.000000</td>\n",
       "      <td>0.000000</td>\n",
       "      <td>0.0</td>\n",
       "      <td>0.000000</td>\n",
       "    </tr>\n",
       "    <tr>\n",
       "      <th>1</th>\n",
       "      <td>2024-03-01</td>\n",
       "      <td>ast-yhccl1zjue2t</td>\n",
       "      <td>Large Capacity Cutting Machine 1</td>\n",
       "      <td>idle_time</td>\n",
       "      <td>0.000000</td>\n",
       "      <td>0.000000</td>\n",
       "      <td>0.0</td>\n",
       "      <td>0.000000</td>\n",
       "    </tr>\n",
       "    <tr>\n",
       "      <th>2</th>\n",
       "      <td>2024-03-01</td>\n",
       "      <td>ast-yhccl1zjue2t</td>\n",
       "      <td>Large Capacity Cutting Machine 1</td>\n",
       "      <td>offline_time</td>\n",
       "      <td>0.000000</td>\n",
       "      <td>0.000000</td>\n",
       "      <td>0.0</td>\n",
       "      <td>0.000000</td>\n",
       "    </tr>\n",
       "    <tr>\n",
       "      <th>3</th>\n",
       "      <td>2024-03-01</td>\n",
       "      <td>ast-yhccl1zjue2t</td>\n",
       "      <td>Large Capacity Cutting Machine 1</td>\n",
       "      <td>consumption</td>\n",
       "      <td>0.066106</td>\n",
       "      <td>0.002321</td>\n",
       "      <td>0.0</td>\n",
       "      <td>0.066106</td>\n",
       "    </tr>\n",
       "    <tr>\n",
       "      <th>4</th>\n",
       "      <td>2024-03-01</td>\n",
       "      <td>ast-yhccl1zjue2t</td>\n",
       "      <td>Large Capacity Cutting Machine 1</td>\n",
       "      <td>power</td>\n",
       "      <td>NaN</td>\n",
       "      <td>0.003673</td>\n",
       "      <td>0.0</td>\n",
       "      <td>0.012801</td>\n",
       "    </tr>\n",
       "  </tbody>\n",
       "</table>\n",
       "</div>"
      ],
      "text/plain": [
       "         time          asset_id                              name  \\\n",
       "0  2024-03-01  ast-yhccl1zjue2t  Large Capacity Cutting Machine 1   \n",
       "1  2024-03-01  ast-yhccl1zjue2t  Large Capacity Cutting Machine 1   \n",
       "2  2024-03-01  ast-yhccl1zjue2t  Large Capacity Cutting Machine 1   \n",
       "3  2024-03-01  ast-yhccl1zjue2t  Large Capacity Cutting Machine 1   \n",
       "4  2024-03-01  ast-yhccl1zjue2t  Large Capacity Cutting Machine 1   \n",
       "\n",
       "            kpi       sum       avg  min       max  \n",
       "0  working_time  0.000000  0.000000  0.0  0.000000  \n",
       "1     idle_time  0.000000  0.000000  0.0  0.000000  \n",
       "2  offline_time  0.000000  0.000000  0.0  0.000000  \n",
       "3   consumption  0.066106  0.002321  0.0  0.066106  \n",
       "4         power       NaN  0.003673  0.0  0.012801  "
      ]
     },
     "metadata": {},
     "output_type": "display_data"
    }
   ],
   "source": [
    "# Convert the \"time\" column to just the date (YYYY-MM-DD) format\n",
    "df['time'] = pd.to_datetime(df['time']).dt.date\n",
    "df.head()"
   ]
  },
  {
   "cell_type": "code",
   "execution_count": null,
   "metadata": {},
   "outputs": [],
   "source": [
    "df['time'] = pd.to_datetime(df['time'])"
   ]
  },
  {
   "cell_type": "code",
   "execution_count": null,
   "metadata": {},
   "outputs": [
    {
     "data": {
      "text/html": [
       "<div>\n",
       "<style scoped>\n",
       "    .dataframe tbody tr th:only-of-type {\n",
       "        vertical-align: middle;\n",
       "    }\n",
       "\n",
       "    .dataframe tbody tr th {\n",
       "        vertical-align: top;\n",
       "    }\n",
       "\n",
       "    .dataframe thead th {\n",
       "        text-align: right;\n",
       "    }\n",
       "</style>\n",
       "<table border=\"1\" class=\"dataframe\">\n",
       "  <thead>\n",
       "    <tr style=\"text-align: right;\">\n",
       "      <th></th>\n",
       "      <th>time</th>\n",
       "      <th>name</th>\n",
       "      <th>kpi</th>\n",
       "      <th>avg</th>\n",
       "    </tr>\n",
       "  </thead>\n",
       "  <tbody>\n",
       "    <tr>\n",
       "      <th>0</th>\n",
       "      <td>2024-03-01</td>\n",
       "      <td>Large Capacity Cutting Machine 1</td>\n",
       "      <td>working_time</td>\n",
       "      <td>0.000000</td>\n",
       "    </tr>\n",
       "    <tr>\n",
       "      <th>1</th>\n",
       "      <td>2024-03-01</td>\n",
       "      <td>Large Capacity Cutting Machine 1</td>\n",
       "      <td>idle_time</td>\n",
       "      <td>0.000000</td>\n",
       "    </tr>\n",
       "    <tr>\n",
       "      <th>2</th>\n",
       "      <td>2024-03-01</td>\n",
       "      <td>Large Capacity Cutting Machine 1</td>\n",
       "      <td>offline_time</td>\n",
       "      <td>0.000000</td>\n",
       "    </tr>\n",
       "    <tr>\n",
       "      <th>3</th>\n",
       "      <td>2024-03-01</td>\n",
       "      <td>Large Capacity Cutting Machine 1</td>\n",
       "      <td>consumption</td>\n",
       "      <td>0.002321</td>\n",
       "    </tr>\n",
       "    <tr>\n",
       "      <th>4</th>\n",
       "      <td>2024-03-01</td>\n",
       "      <td>Large Capacity Cutting Machine 1</td>\n",
       "      <td>power</td>\n",
       "      <td>0.003673</td>\n",
       "    </tr>\n",
       "  </tbody>\n",
       "</table>\n",
       "</div>"
      ],
      "text/plain": [
       "        time                              name           kpi       avg\n",
       "0 2024-03-01  Large Capacity Cutting Machine 1  working_time  0.000000\n",
       "1 2024-03-01  Large Capacity Cutting Machine 1     idle_time  0.000000\n",
       "2 2024-03-01  Large Capacity Cutting Machine 1  offline_time  0.000000\n",
       "3 2024-03-01  Large Capacity Cutting Machine 1   consumption  0.002321\n",
       "4 2024-03-01  Large Capacity Cutting Machine 1         power  0.003673"
      ]
     },
     "metadata": {},
     "output_type": "display_data"
    }
   ],
   "source": [
    "# Keep only the time, name, kpi, and avg columns\n",
    "df = df[['time', 'name', 'kpi', 'avg']]\n",
    "df.head()"
   ]
  },
  {
   "cell_type": "code",
   "execution_count": null,
   "metadata": {},
   "outputs": [
    {
     "data": {
      "text/html": [
       "<div>\n",
       "<style scoped>\n",
       "    .dataframe tbody tr th:only-of-type {\n",
       "        vertical-align: middle;\n",
       "    }\n",
       "\n",
       "    .dataframe tbody tr th {\n",
       "        vertical-align: top;\n",
       "    }\n",
       "\n",
       "    .dataframe thead th {\n",
       "        text-align: right;\n",
       "    }\n",
       "</style>\n",
       "<table border=\"1\" class=\"dataframe\">\n",
       "  <thead>\n",
       "    <tr style=\"text-align: right;\">\n",
       "      <th></th>\n",
       "      <th>time</th>\n",
       "      <th>name</th>\n",
       "      <th>kpi</th>\n",
       "      <th>avg</th>\n",
       "    </tr>\n",
       "  </thead>\n",
       "  <tbody>\n",
       "    <tr>\n",
       "      <th>92482</th>\n",
       "      <td>2024-10-14</td>\n",
       "      <td>Large Capacity Cutting Machine 1</td>\n",
       "      <td>working_time</td>\n",
       "      <td>25406.000000</td>\n",
       "    </tr>\n",
       "    <tr>\n",
       "      <th>92483</th>\n",
       "      <td>2024-10-14</td>\n",
       "      <td>Large Capacity Cutting Machine 1</td>\n",
       "      <td>idle_time</td>\n",
       "      <td>21791.000000</td>\n",
       "    </tr>\n",
       "    <tr>\n",
       "      <th>92484</th>\n",
       "      <td>2024-10-14</td>\n",
       "      <td>Large Capacity Cutting Machine 1</td>\n",
       "      <td>offline_time</td>\n",
       "      <td>888.000000</td>\n",
       "    </tr>\n",
       "    <tr>\n",
       "      <th>92485</th>\n",
       "      <td>2024-10-14</td>\n",
       "      <td>Large Capacity Cutting Machine 1</td>\n",
       "      <td>consumption</td>\n",
       "      <td>0.004759</td>\n",
       "    </tr>\n",
       "    <tr>\n",
       "      <th>92486</th>\n",
       "      <td>2024-10-14</td>\n",
       "      <td>Large Capacity Cutting Machine 1</td>\n",
       "      <td>power</td>\n",
       "      <td>0.004834</td>\n",
       "    </tr>\n",
       "  </tbody>\n",
       "</table>\n",
       "</div>"
      ],
      "text/plain": [
       "            time                              name           kpi           avg\n",
       "92482 2024-10-14  Large Capacity Cutting Machine 1  working_time  25406.000000\n",
       "92483 2024-10-14  Large Capacity Cutting Machine 1     idle_time  21791.000000\n",
       "92484 2024-10-14  Large Capacity Cutting Machine 1  offline_time    888.000000\n",
       "92485 2024-10-14  Large Capacity Cutting Machine 1   consumption      0.004759\n",
       "92486 2024-10-14  Large Capacity Cutting Machine 1         power      0.004834"
      ]
     },
     "metadata": {},
     "output_type": "display_data"
    }
   ],
   "source": [
    "# Consider only the working week that goes from the 2024-10-14 to the 2024-10-18\n",
    "df_week = df[(df['time'] >= '2024-10-14') & (df['time'] <= '2024-10-18')]\n",
    "df_week.head()"
   ]
  },
  {
   "cell_type": "code",
   "execution_count": null,
   "metadata": {},
   "outputs": [
    {
     "data": {
      "text/html": [
       "<div>\n",
       "<style scoped>\n",
       "    .dataframe tbody tr th:only-of-type {\n",
       "        vertical-align: middle;\n",
       "    }\n",
       "\n",
       "    .dataframe tbody tr th {\n",
       "        vertical-align: top;\n",
       "    }\n",
       "\n",
       "    .dataframe thead th {\n",
       "        text-align: right;\n",
       "    }\n",
       "</style>\n",
       "<table border=\"1\" class=\"dataframe\">\n",
       "  <thead>\n",
       "    <tr style=\"text-align: right;\">\n",
       "      <th></th>\n",
       "      <th>time</th>\n",
       "      <th>name</th>\n",
       "      <th>kpi</th>\n",
       "      <th>avg</th>\n",
       "    </tr>\n",
       "  </thead>\n",
       "  <tbody>\n",
       "    <tr>\n",
       "      <th>92768</th>\n",
       "      <td>2024-10-14</td>\n",
       "      <td>Riveting Machine</td>\n",
       "      <td>working_time</td>\n",
       "      <td>30038.000000</td>\n",
       "    </tr>\n",
       "    <tr>\n",
       "      <th>92769</th>\n",
       "      <td>2024-10-14</td>\n",
       "      <td>Riveting Machine</td>\n",
       "      <td>idle_time</td>\n",
       "      <td>17380.000000</td>\n",
       "    </tr>\n",
       "    <tr>\n",
       "      <th>92770</th>\n",
       "      <td>2024-10-14</td>\n",
       "      <td>Riveting Machine</td>\n",
       "      <td>offline_time</td>\n",
       "      <td>2698.000000</td>\n",
       "    </tr>\n",
       "    <tr>\n",
       "      <th>92771</th>\n",
       "      <td>2024-10-14</td>\n",
       "      <td>Riveting Machine</td>\n",
       "      <td>consumption</td>\n",
       "      <td>0.001000</td>\n",
       "    </tr>\n",
       "    <tr>\n",
       "      <th>92772</th>\n",
       "      <td>2024-10-14</td>\n",
       "      <td>Riveting Machine</td>\n",
       "      <td>power</td>\n",
       "      <td>0.000131</td>\n",
       "    </tr>\n",
       "  </tbody>\n",
       "</table>\n",
       "</div>"
      ],
      "text/plain": [
       "            time              name           kpi           avg\n",
       "92768 2024-10-14  Riveting Machine  working_time  30038.000000\n",
       "92769 2024-10-14  Riveting Machine     idle_time  17380.000000\n",
       "92770 2024-10-14  Riveting Machine  offline_time   2698.000000\n",
       "92771 2024-10-14  Riveting Machine   consumption      0.001000\n",
       "92772 2024-10-14  Riveting Machine         power      0.000131"
      ]
     },
     "metadata": {},
     "output_type": "display_data"
    }
   ],
   "source": [
    "# Keep only two machines: Riveting Machine and Laser Cutter\n",
    "df_week = df_week[(df_week['name'] == 'Riveting Machine') | (df_week['name'] == 'Laser Cutter')]\n",
    "df_week.head()"
   ]
  },
  {
   "cell_type": "code",
   "execution_count": null,
   "metadata": {},
   "outputs": [
    {
     "data": {
      "text/html": [
       "<div>\n",
       "<style scoped>\n",
       "    .dataframe tbody tr th:only-of-type {\n",
       "        vertical-align: middle;\n",
       "    }\n",
       "\n",
       "    .dataframe tbody tr th {\n",
       "        vertical-align: top;\n",
       "    }\n",
       "\n",
       "    .dataframe thead th {\n",
       "        text-align: right;\n",
       "    }\n",
       "</style>\n",
       "<table border=\"1\" class=\"dataframe\">\n",
       "  <thead>\n",
       "    <tr style=\"text-align: right;\">\n",
       "      <th></th>\n",
       "      <th>name</th>\n",
       "      <th>kpi</th>\n",
       "      <th>avg</th>\n",
       "    </tr>\n",
       "  </thead>\n",
       "  <tbody>\n",
       "    <tr>\n",
       "      <th>0</th>\n",
       "      <td>Laser Cutter</td>\n",
       "      <td>average_cycle_time</td>\n",
       "      <td>9.511204</td>\n",
       "    </tr>\n",
       "    <tr>\n",
       "      <th>1</th>\n",
       "      <td>Laser Cutter</td>\n",
       "      <td>bad_cycles</td>\n",
       "      <td>2.200000</td>\n",
       "    </tr>\n",
       "    <tr>\n",
       "      <th>2</th>\n",
       "      <td>Laser Cutter</td>\n",
       "      <td>consumption</td>\n",
       "      <td>0.000000</td>\n",
       "    </tr>\n",
       "    <tr>\n",
       "      <th>3</th>\n",
       "      <td>Laser Cutter</td>\n",
       "      <td>consumption_idle</td>\n",
       "      <td>0.000000</td>\n",
       "    </tr>\n",
       "    <tr>\n",
       "      <th>4</th>\n",
       "      <td>Laser Cutter</td>\n",
       "      <td>consumption_working</td>\n",
       "      <td>0.000000</td>\n",
       "    </tr>\n",
       "    <tr>\n",
       "      <th>5</th>\n",
       "      <td>Laser Cutter</td>\n",
       "      <td>cost</td>\n",
       "      <td>0.000000</td>\n",
       "    </tr>\n",
       "    <tr>\n",
       "      <th>6</th>\n",
       "      <td>Laser Cutter</td>\n",
       "      <td>cost_idle</td>\n",
       "      <td>0.000000</td>\n",
       "    </tr>\n",
       "    <tr>\n",
       "      <th>7</th>\n",
       "      <td>Laser Cutter</td>\n",
       "      <td>cost_working</td>\n",
       "      <td>0.000000</td>\n",
       "    </tr>\n",
       "    <tr>\n",
       "      <th>8</th>\n",
       "      <td>Laser Cutter</td>\n",
       "      <td>cycles</td>\n",
       "      <td>1.000000</td>\n",
       "    </tr>\n",
       "    <tr>\n",
       "      <th>9</th>\n",
       "      <td>Laser Cutter</td>\n",
       "      <td>good_cycles</td>\n",
       "      <td>553.600000</td>\n",
       "    </tr>\n",
       "    <tr>\n",
       "      <th>10</th>\n",
       "      <td>Laser Cutter</td>\n",
       "      <td>idle_time</td>\n",
       "      <td>19150.200000</td>\n",
       "    </tr>\n",
       "    <tr>\n",
       "      <th>11</th>\n",
       "      <td>Laser Cutter</td>\n",
       "      <td>offline_time</td>\n",
       "      <td>327.200000</td>\n",
       "    </tr>\n",
       "    <tr>\n",
       "      <th>12</th>\n",
       "      <td>Laser Cutter</td>\n",
       "      <td>power</td>\n",
       "      <td>0.000118</td>\n",
       "    </tr>\n",
       "    <tr>\n",
       "      <th>13</th>\n",
       "      <td>Laser Cutter</td>\n",
       "      <td>working_time</td>\n",
       "      <td>71449.000000</td>\n",
       "    </tr>\n",
       "    <tr>\n",
       "      <th>14</th>\n",
       "      <td>Riveting Machine</td>\n",
       "      <td>average_cycle_time</td>\n",
       "      <td>3.306661</td>\n",
       "    </tr>\n",
       "    <tr>\n",
       "      <th>15</th>\n",
       "      <td>Riveting Machine</td>\n",
       "      <td>bad_cycles</td>\n",
       "      <td>0.000000</td>\n",
       "    </tr>\n",
       "    <tr>\n",
       "      <th>16</th>\n",
       "      <td>Riveting Machine</td>\n",
       "      <td>consumption</td>\n",
       "      <td>0.001000</td>\n",
       "    </tr>\n",
       "    <tr>\n",
       "      <th>17</th>\n",
       "      <td>Riveting Machine</td>\n",
       "      <td>consumption_idle</td>\n",
       "      <td>0.001000</td>\n",
       "    </tr>\n",
       "    <tr>\n",
       "      <th>18</th>\n",
       "      <td>Riveting Machine</td>\n",
       "      <td>consumption_working</td>\n",
       "      <td>0.001000</td>\n",
       "    </tr>\n",
       "    <tr>\n",
       "      <th>19</th>\n",
       "      <td>Riveting Machine</td>\n",
       "      <td>cost</td>\n",
       "      <td>0.001000</td>\n",
       "    </tr>\n",
       "    <tr>\n",
       "      <th>20</th>\n",
       "      <td>Riveting Machine</td>\n",
       "      <td>cost_idle</td>\n",
       "      <td>0.001000</td>\n",
       "    </tr>\n",
       "    <tr>\n",
       "      <th>21</th>\n",
       "      <td>Riveting Machine</td>\n",
       "      <td>cost_working</td>\n",
       "      <td>0.001000</td>\n",
       "    </tr>\n",
       "    <tr>\n",
       "      <th>22</th>\n",
       "      <td>Riveting Machine</td>\n",
       "      <td>cycles</td>\n",
       "      <td>1.000000</td>\n",
       "    </tr>\n",
       "    <tr>\n",
       "      <th>23</th>\n",
       "      <td>Riveting Machine</td>\n",
       "      <td>good_cycles</td>\n",
       "      <td>1042.000000</td>\n",
       "    </tr>\n",
       "    <tr>\n",
       "      <th>24</th>\n",
       "      <td>Riveting Machine</td>\n",
       "      <td>idle_time</td>\n",
       "      <td>26285.800000</td>\n",
       "    </tr>\n",
       "    <tr>\n",
       "      <th>25</th>\n",
       "      <td>Riveting Machine</td>\n",
       "      <td>offline_time</td>\n",
       "      <td>703.000000</td>\n",
       "    </tr>\n",
       "    <tr>\n",
       "      <th>26</th>\n",
       "      <td>Riveting Machine</td>\n",
       "      <td>power</td>\n",
       "      <td>0.000121</td>\n",
       "    </tr>\n",
       "    <tr>\n",
       "      <th>27</th>\n",
       "      <td>Riveting Machine</td>\n",
       "      <td>working_time</td>\n",
       "      <td>47148.200000</td>\n",
       "    </tr>\n",
       "  </tbody>\n",
       "</table>\n",
       "</div>"
      ],
      "text/plain": [
       "                name                  kpi           avg\n",
       "0       Laser Cutter   average_cycle_time      9.511204\n",
       "1       Laser Cutter           bad_cycles      2.200000\n",
       "2       Laser Cutter          consumption      0.000000\n",
       "3       Laser Cutter     consumption_idle      0.000000\n",
       "4       Laser Cutter  consumption_working      0.000000\n",
       "5       Laser Cutter                 cost      0.000000\n",
       "6       Laser Cutter            cost_idle      0.000000\n",
       "7       Laser Cutter         cost_working      0.000000\n",
       "8       Laser Cutter               cycles      1.000000\n",
       "9       Laser Cutter          good_cycles    553.600000\n",
       "10      Laser Cutter            idle_time  19150.200000\n",
       "11      Laser Cutter         offline_time    327.200000\n",
       "12      Laser Cutter                power      0.000118\n",
       "13      Laser Cutter         working_time  71449.000000\n",
       "14  Riveting Machine   average_cycle_time      3.306661\n",
       "15  Riveting Machine           bad_cycles      0.000000\n",
       "16  Riveting Machine          consumption      0.001000\n",
       "17  Riveting Machine     consumption_idle      0.001000\n",
       "18  Riveting Machine  consumption_working      0.001000\n",
       "19  Riveting Machine                 cost      0.001000\n",
       "20  Riveting Machine            cost_idle      0.001000\n",
       "21  Riveting Machine         cost_working      0.001000\n",
       "22  Riveting Machine               cycles      1.000000\n",
       "23  Riveting Machine          good_cycles   1042.000000\n",
       "24  Riveting Machine            idle_time  26285.800000\n",
       "25  Riveting Machine         offline_time    703.000000\n",
       "26  Riveting Machine                power      0.000121\n",
       "27  Riveting Machine         working_time  47148.200000"
      ]
     },
     "metadata": {},
     "output_type": "display_data"
    }
   ],
   "source": [
    "# Aggregate the data by machine and kpi and consider the average over the week\n",
    "df_week = df_week.groupby(['name', 'kpi']).mean()\n",
    "df_week.reset_index(inplace=True)\n",
    "df_week = df_week.drop(columns=['time'])\n",
    "df_week"
   ]
  },
  {
   "cell_type": "code",
   "execution_count": null,
   "metadata": {},
   "outputs": [
    {
     "data": {
      "text/plain": [
       "7"
      ]
     },
     "metadata": {},
     "output_type": "display_data"
    }
   ],
   "source": [
    "# count how many rows of df_week have avg column equal to 0\n",
    "len(df_week[df_week['avg'] == 0])"
   ]
  },
  {
   "cell_type": "code",
   "execution_count": null,
   "metadata": {},
   "outputs": [],
   "source": [
    "# Convert DataFrame to JSON\n",
    "json_result = df_week.to_json(orient=\"records\", indent=4)  \n",
    "\n",
    "# Parse the JSON string back into a Python list\n",
    "list_result = json.loads(json_result)\n",
    "\n",
    "# Add metadata to the JSON result\n",
    "result = {\n",
    "    \"metadata\": {\n",
    "        \"working_week\": \"2024-10-14 to 2024-10-18\",\n",
    "        \"description\": \"The average values are calculated over the days within the specified week.\"\n",
    "    },\n",
    "    \"data\": list_result\n",
    "}"
   ]
  },
  {
   "cell_type": "markdown",
   "metadata": {},
   "source": [
    "#### Save JSON to a file"
   ]
  },
  {
   "cell_type": "code",
   "execution_count": null,
   "metadata": {},
   "outputs": [],
   "source": [
    "\"\"\"# Save JSON to a file\n",
    "with open(\"data/report_data.json\", \"w\") as f:\n",
    "    json.dump(result, f, indent=4)\"\"\""
   ]
  },
  {
   "cell_type": "markdown",
   "metadata": {},
   "source": [
    "## Report Generation"
   ]
  },
  {
   "cell_type": "code",
   "execution_count": 20,
   "metadata": {},
   "outputs": [],
   "source": [
    "file_path = \"data/report_data.json\"\n",
    "\n",
    "with open(file_path, \"r\") as file:\n",
    "    report_data = json.load(file)"
   ]
  },
  {
   "cell_type": "code",
   "execution_count": 21,
   "metadata": {},
   "outputs": [],
   "source": [
    "data = []\n",
    "data.append({\"type\": \"json\", \"content\": report_data})"
   ]
  },
  {
   "cell_type": "code",
   "execution_count": 22,
   "metadata": {},
   "outputs": [
    {
     "name": "stdout",
     "output_type": "stream",
     "text": [
      "Generating report with dynamic KB...\n"
     ]
    },
    {
     "data": {
      "application/vnd.jupyter.widget-view+json": {
       "model_id": "041eaeb84baa424db12cac133a83bb6b",
       "version_major": 2,
       "version_minor": 0
      },
      "text/plain": [
       "Parsing nodes:   0%|          | 0/1 [00:00<?, ?it/s]"
      ]
     },
     "metadata": {},
     "output_type": "display_data"
    },
    {
     "data": {
      "application/vnd.jupyter.widget-view+json": {
       "model_id": "e2f41eeb450843faaef1a4f639c11220",
       "version_major": 2,
       "version_minor": 0
      },
      "text/plain": [
       "Generating embeddings:   0%|          | 0/1 [00:00<?, ?it/s]"
      ]
     },
     "metadata": {},
     "output_type": "display_data"
    }
   ],
   "source": [
    "response = rag_interaction(data, generate_report=True)"
   ]
  },
  {
   "cell_type": "code",
   "execution_count": 23,
   "metadata": {},
   "outputs": [
    {
     "name": "stdout",
     "output_type": "stream",
     "text": [
      "**Industrial Machine Performance Report**\n",
      "\n",
      "**Time Period Covered:** October 14, 2024 - October 18, 2024\n",
      "\n",
      "This report provides an in-depth analysis of the performance of two industrial machines: Laser Cutter and Riveting Machine. The analysis is based on key performance indicators (KPIs) such as average cycle time, consumption, cost, idle time, offline time, power usage, working time, good cycles, bad cycles, and cycles.\n",
      "\n",
      "**Machine Performance Comparison**\n",
      "\n",
      "| KPI | Laser Cutter | Riveting Machine |\n",
      "| --- | --- | --- |\n",
      "| Average Cycle Time | 9.51 seconds (avg) | 3.31 seconds (avg) |\n",
      "| Consumption | 0.00 units (low) | 0.001 units (low) |\n",
      "| Cost | 0.00 units (zero) | 0.001 units (low) |\n",
      "| Idle Time | 19,150.2 hours (high) | 26,285.8 hours (high) |\n",
      "| Offline Time | 327.2 hours (moderate) | 703.0 hours (moderate) |\n",
      "| Power Usage | 0.00012 units (very low) | 0.00012 units (very low) |\n",
      "| Working Time | 7,144.9 hours (high) | 4,715.8 hours (moderate) |\n",
      "\n",
      "**Key Insights and Recommendations**\n",
      "\n",
      "* The Laser Cutter has a significantly shorter average cycle time compared to the Riveting Machine, indicating potential for process optimization.\n",
      "* Both machines have very low consumption rates, suggesting efficient energy usage.\n",
      "* However, the Riveting Machine has a lower idle time, which may indicate a more productive work schedule.\n",
      "* The offline and working times suggest varying levels of downtime and productivity across both machines.\n",
      "* Power usage is extremely low in both cases, indicating efficient operation.\n",
      "\n",
      "**Actionable Recommendations**\n",
      "\n",
      "1. **Optimize Process**: Analyze and optimize the process to reduce average cycle time for the Laser Cutter.\n",
      "2. **Monitor Energy Consumption**: Regularly monitor energy consumption to ensure it remains at optimal levels.\n",
      "3. **Improve Productivity**: Investigate ways to increase productivity of the Riveting Machine, particularly during working times.\n",
      "\n",
      "This report provides a comprehensive analysis of machine performance and offers actionable recommendations to improve efficiency, reduce waste, and optimize resource allocation.\n"
     ]
    }
   ],
   "source": [
    "print(response)"
   ]
  },
  {
   "cell_type": "markdown",
   "metadata": {},
   "source": [
    "---"
   ]
  },
  {
   "cell_type": "markdown",
   "metadata": {},
   "source": [
    "### Let's visualize the response!"
   ]
  },
  {
   "cell_type": "markdown",
   "metadata": {},
   "source": [
    "---"
   ]
  },
  {
   "cell_type": "markdown",
   "metadata": {},
   "source": [
    "**Industrial Machine Performance Report**\n",
    "\n",
    "**Time Period Covered:** October 14, 2024 - October 18, 2024\n",
    "\n",
    "This report provides an in-depth analysis of the performance of two industrial machines: Laser Cutter and Riveting Machine. The analysis is based on key performance indicators (KPIs) such as average cycle time, consumption, cost, idle time, offline time, power usage, working time, good cycles, bad cycles, and cycles.\n",
    "\n",
    "**Machine Performance Comparison**\n",
    "\n",
    "| KPI | Laser Cutter | Riveting Machine |\n",
    "| --- | --- | --- |\n",
    "| Average Cycle Time | 9.51 seconds (avg) | 3.31 seconds (avg) |\n",
    "| Consumption | 0.00 units (low) | 0.001 units (low) |\n",
    "| Cost | 0.00 units (zero) | 0.001 units (low) |\n",
    "| Idle Time | 19,150.2 hours (high) | 26,285.8 hours (high) |\n",
    "| Offline Time | 327.2 hours (moderate) | 703.0 hours (moderate) |\n",
    "| Power Usage | 0.00012 units (very low) | 0.00012 units (very low) |\n",
    "| Working Time | 7,144.9 hours (high) | 4,715.8 hours (moderate) |\n",
    "\n",
    "**Key Insights and Recommendations**\n",
    "\n",
    "* The Laser Cutter has a significantly shorter average cycle time compared to the Riveting Machine, indicating potential for process optimization.\n",
    "* Both machines have very low consumption rates, suggesting efficient energy usage.\n",
    "* However, the Riveting Machine has a lower idle time, which may indicate a more productive work schedule.\n",
    "* The offline and working times suggest varying levels of downtime and productivity across both machines.\n",
    "* Power usage is extremely low in both cases, indicating efficient operation.\n",
    "\n",
    "**Actionable Recommendations**\n",
    "\n",
    "1. **Optimize Process**: Analyze and optimize the process to reduce average cycle time for the Laser Cutter.\n",
    "2. **Monitor Energy Consumption**: Regularly monitor energy consumption to ensure it remains at optimal levels.\n",
    "3. **Improve Productivity**: Investigate ways to increase productivity of the Riveting Machine, particularly during working times.\n",
    "\n",
    "This report provides a comprehensive analysis of machine performance and offers actionable recommendations to improve efficiency, reduce waste, and optimize resource allocation."
   ]
  },
  {
   "cell_type": "markdown",
   "metadata": {},
   "source": [
    "# MEMORY\n",
    "Exploit the memory functionality."
   ]
  },
  {
   "cell_type": "markdown",
   "metadata": {},
   "source": [
    "### Test"
   ]
  },
  {
   "cell_type": "code",
   "execution_count": 38,
   "metadata": {},
   "outputs": [],
   "source": [
    "# Use the kb of the chat use case\n",
    "data = [kpi_data, machine_data]\n",
    "data.append({\"type\": \"txt\", \"content\": documentation})"
   ]
  },
  {
   "cell_type": "code",
   "execution_count": 39,
   "metadata": {},
   "outputs": [
    {
     "name": "stdout",
     "output_type": "stream",
     "text": [
      "Using chatbot mode...\n",
      "Loading precomputed vector index...\n",
      "Yes, there are metal cutter machines. They consist of six individual machines within the company's single site, each classified under this category.\n"
     ]
    }
   ],
   "source": [
    "memory = ChatMemory()\n",
    "\n",
    "query = \"Are there metal cutter machines?\"\n",
    "response = rag_interaction(data, query, memory=memory)\n",
    "print(response)"
   ]
  },
  {
   "cell_type": "code",
   "execution_count": 40,
   "metadata": {},
   "outputs": [
    {
     "name": "stdout",
     "output_type": "stream",
     "text": [
      "Using chatbot mode...\n",
      "Loading precomputed vector index...\n",
      "The metal cutter machines have the following names:\n",
      "1. Large Capacity Cutting Machine 1\n",
      "2. Medium Capacity Cutting Machine 1\n",
      "3. Low Capacity Cutting Machine 1\n",
      "4. Medium Capacity Cutting Machine 2\n",
      "5. Large Capacity Cutting Machine 2\n",
      "6. Medium Capacity Cutting Machine 3\n"
     ]
    }
   ],
   "source": [
    "query = \"What are their names?\"\n",
    "response = rag_interaction(data, query, memory=memory)\n",
    "print(response)"
   ]
  },
  {
   "cell_type": "markdown",
   "metadata": {},
   "source": [
    "### Error Correction\n",
    "Handle cases where users correct themselves mid-dialogue."
   ]
  },
  {
   "cell_type": "code",
   "execution_count": 10,
   "metadata": {},
   "outputs": [],
   "source": [
    "# Use the kb of the chat use case\n",
    "data = [kpi_data, machine_data]\n",
    "data.append({\"type\": \"txt\", \"content\": documentation})\n",
    "\n",
    "memory = ChatMemory()"
   ]
  },
  {
   "cell_type": "code",
   "execution_count": 11,
   "metadata": {},
   "outputs": [
    {
     "name": "stdout",
     "output_type": "stream",
     "text": [
      "Using chatbot mode...\n",
      "Loading precomputed vector index...\n",
      "I'm unable to provide information on a \"plasma cutter machine\" as it does not appear to be one of the specified machine types in the provided context. The context only mentions specific types of machines such as metal cutters, riveters, laser cutters, assemblers, welding machines, and testing machines. If you could provide more information or clarify which type of machine you are referring to, I'd be happy to try and assist you further.\n"
     ]
    }
   ],
   "source": [
    "query = \"What are the KPIs of the plasma cutter machine?\"\n",
    "response = rag_interaction(data, query, memory=memory)\n",
    "print(response)"
   ]
  },
  {
   "cell_type": "code",
   "execution_count": 12,
   "metadata": {},
   "outputs": [
    {
     "name": "stdout",
     "output_type": "stream",
     "text": [
      "Using chatbot mode...\n",
      "Loading precomputed vector index...\n",
      "The KPIs for a Laser Cutter machine are:\n",
      "\n",
      "- working_time\n",
      "- idle_time\n",
      "- offline_time\n",
      "- average_cycle_time\n",
      "- consumption\n",
      "- power\n",
      "- cycles\n"
     ]
    }
   ],
   "source": [
    "query = \"Sorry, I meant the laser cutter machine.\"\n",
    "response = rag_interaction(data, query, memory=memory)\n",
    "print(response)"
   ]
  },
  {
   "cell_type": "markdown",
   "metadata": {},
   "source": [
    "---"
   ]
  },
  {
   "cell_type": "code",
   "execution_count": 13,
   "metadata": {},
   "outputs": [],
   "source": [
    "# Use the kb of the chat use case\n",
    "data = [kpi_data, machine_data]\n",
    "data.append({\"type\": \"txt\", \"content\": documentation})\n",
    "\n",
    "memory = ChatMemory()"
   ]
  },
  {
   "cell_type": "code",
   "execution_count": 14,
   "metadata": {},
   "outputs": [
    {
     "name": "stdout",
     "output_type": "stream",
     "text": [
      "Using chatbot mode...\n",
      "Loading precomputed vector index...\n",
      "I'm unable to provide an answer to that question as it seems to be outside of the scope of the provided knowledge base.\n"
     ]
    }
   ],
   "source": [
    "query = \"How many plasma cutter machines are there?\"\n",
    "response = rag_interaction(data, query, memory=memory)\n",
    "print(response)"
   ]
  },
  {
   "cell_type": "code",
   "execution_count": 15,
   "metadata": {},
   "outputs": [
    {
     "name": "stdout",
     "output_type": "stream",
     "text": [
      "Using chatbot mode...\n",
      "Loading precomputed vector index...\n",
      "There is only one machine classified as a \"Laser Cutter\".\n"
     ]
    }
   ],
   "source": [
    "query = \"Sorry, I meant the laser cutter machine.\"\n",
    "response = rag_interaction(data, query, memory=memory)\n",
    "print(response)"
   ]
  },
  {
   "cell_type": "code",
   "execution_count": 16,
   "metadata": {},
   "outputs": [
    {
     "name": "stdout",
     "output_type": "stream",
     "text": [
      "Using chatbot mode...\n",
      "Loading precomputed vector index...\n",
      "There are six metal cutter machines.\n"
     ]
    }
   ],
   "source": [
    "query = \"And for the metal cutters?\"\n",
    "response = rag_interaction(data, query, memory=memory)\n",
    "print(response)"
   ]
  },
  {
   "cell_type": "code",
   "execution_count": 18,
   "metadata": {},
   "outputs": [
    {
     "name": "stdout",
     "output_type": "stream",
     "text": [
      "Using chatbot mode...\n",
      "Loading precomputed vector index...\n",
      "There are three assembler machines.\n"
     ]
    }
   ],
   "source": [
    "query = \"And assemblers?\"\n",
    "response = rag_interaction(data, query, memory=memory)\n",
    "print(response)"
   ]
  },
  {
   "cell_type": "code",
   "execution_count": 19,
   "metadata": {},
   "outputs": [
    {
     "name": "stdout",
     "output_type": "stream",
     "text": [
      "Using chatbot mode...\n",
      "Loading precomputed vector index...\n",
      "There are two machines classified as welding machines.\n"
     ]
    }
   ],
   "source": [
    "query = \"And welding?\"\n",
    "response = rag_interaction(data, query, memory=memory)\n",
    "print(response)"
   ]
  },
  {
   "cell_type": "code",
   "execution_count": 20,
   "metadata": {},
   "outputs": [
    {
     "name": "stdout",
     "output_type": "stream",
     "text": [
      "Using chatbot mode...\n",
      "Loading precomputed vector index...\n",
      "There are three machines classified as \"Testing Machines\".\n"
     ]
    }
   ],
   "source": [
    "query = \"And testing?\"\n",
    "response = rag_interaction(data, query, memory=memory)\n",
    "print(response)"
   ]
  },
  {
   "cell_type": "code",
   "execution_count": 21,
   "metadata": {},
   "outputs": [
    {
     "name": "stdout",
     "output_type": "stream",
     "text": [
      "Using chatbot mode...\n",
      "Loading precomputed vector index...\n",
      "There is no mention of 'drills' in the provided context information. I'm unable to provide an answer as the topic is not present in the given data.\n"
     ]
    }
   ],
   "source": [
    "query = \"And drills?\"\n",
    "response = rag_interaction(data, query, memory=memory)\n",
    "print(response)"
   ]
  },
  {
   "cell_type": "markdown",
   "metadata": {},
   "source": [
    "### Personalized Recommendations"
   ]
  },
  {
   "cell_type": "code",
   "execution_count": 35,
   "metadata": {},
   "outputs": [],
   "source": [
    "# Use the kb of the chat use case\n",
    "data = [kpi_data, machine_data]\n",
    "data.append({\"type\": \"txt\", \"content\": documentation})\n",
    "\n",
    "memory = ChatMemory()"
   ]
  },
  {
   "cell_type": "code",
   "execution_count": 36,
   "metadata": {},
   "outputs": [
    {
     "name": "stdout",
     "output_type": "stream",
     "text": [
      "Using chatbot mode...\n",
      "Loading precomputed vector index...\n",
      "The company has a variety of machine types that are monitored using different sets of key performance indicators (KPIs). There are three distinct categories of KPIs: Time, Consumption, Efficiency, Cost, and Quality. However, the Efficiency category is further sub-divided into two main groups - Power and Cycles.\n",
      "\n",
      "In terms of specific KPIs, the Efficiency group includes metrics related to power consumption as a percentage and cycle counts for machines. These metrics provide insights into how efficiently each machine type is operating in relation to its power usage and ability to complete cycles.\n"
     ]
    }
   ],
   "source": [
    "query = \"Can you tell me about the efficiency KPIs of the machines?\"\n",
    "response = rag_interaction(data, query, memory=memory)\n",
    "print(response)"
   ]
  },
  {
   "cell_type": "code",
   "execution_count": 37,
   "metadata": {},
   "outputs": [
    {
     "name": "stdout",
     "output_type": "stream",
     "text": [
      "Using chatbot mode...\n",
      "Loading precomputed vector index...\n",
      "{\n",
      "  \"KPIs\": [\n",
      "    {\n",
      "      \"name\": \"energy_efficiency\",\n",
      "      \"type\": \"Efficiency\",\n",
      "      \"description\": \"Energy efficiency ratio of the machine\",\n",
      "      \"unit_of_measure\": \"\",\n",
      "      \"formula\": \"(power / (consumption_working + consumption_idle)) * 100\"\n",
      "    }\n",
      "  ]\n",
      "}\n"
     ]
    }
   ],
   "source": [
    "query = \"Can you generate a new KPI out of them?\"\n",
    "response = rag_interaction(data, query, memory=memory)\n",
    "print(response)"
   ]
  }
 ],
 "metadata": {
  "kernelspec": {
   "display_name": ".venv",
   "language": "python",
   "name": "python3"
  },
  "language_info": {
   "codemirror_mode": {
    "name": "ipython",
    "version": 3
   },
   "file_extension": ".py",
   "mimetype": "text/x-python",
   "name": "python",
   "nbconvert_exporter": "python",
   "pygments_lexer": "ipython3",
   "version": "3.11.7"
  }
 },
 "nbformat": 4,
 "nbformat_minor": 2
}
