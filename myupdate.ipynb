{
 "cells": [
  {
   "cell_type": "markdown",
   "metadata": {},
   "source": [
    "# My Update\n",
    "In this notebook I will expand the functionalities of the current RAG system implemented together with my group."
   ]
  },
  {
   "cell_type": "code",
   "execution_count": 1,
   "metadata": {},
   "outputs": [],
   "source": [
    "import json\n",
    "import pandas as pd\n",
    "\n",
    "from rag_service.rag_chat import rag_interaction"
   ]
  },
  {
   "cell_type": "markdown",
   "metadata": {},
   "source": [
    "## Knowledge Base\n",
    "Instead of getting the Knowledge Base data through the API, as we did for the project, I downloaded the data so I could have it locally and not have to log in every time to get it. The data in the KB consists of two JSON files that contain the description of the available KPIs and the list of machines with the corresponding KPIs."
   ]
  },
  {
   "cell_type": "code",
   "execution_count": 2,
   "metadata": {},
   "outputs": [],
   "source": [
    "file_path = \"data/documentation.txt\"\n",
    "\n",
    "with open(file_path, \"r\") as file:\n",
    "    documentation = file.read()"
   ]
  },
  {
   "cell_type": "code",
   "execution_count": 3,
   "metadata": {},
   "outputs": [],
   "source": [
    "file_path = \"data/kpis.json\"\n",
    "\n",
    "with open(file_path, \"r\") as file:\n",
    "    kpi_data = json.load(file)"
   ]
  },
  {
   "cell_type": "code",
   "execution_count": 4,
   "metadata": {},
   "outputs": [],
   "source": [
    "file_path = \"data/machines.json\"\n",
    "\n",
    "with open(file_path, \"r\") as file:\n",
    "    machine_data = json.load(file)"
   ]
  },
  {
   "cell_type": "code",
   "execution_count": 5,
   "metadata": {},
   "outputs": [],
   "source": [
    "data = [kpi_data, machine_data]\n",
    "data.append({\"type\": \"txt\", \"content\": documentation}) # in this way we are able to include other file types to the kb"
   ]
  },
  {
   "cell_type": "markdown",
   "metadata": {},
   "source": [
    "## Report Data\n",
    "In this section I am going to extract a small part of the orginal dataset provided by the professors. I will use this subset of data to test the report generation functionality of the RAG system."
   ]
  },
  {
   "cell_type": "code",
   "execution_count": 76,
   "metadata": {},
   "outputs": [
    {
     "data": {
      "text/html": [
       "<div>\n",
       "<style scoped>\n",
       "    .dataframe tbody tr th:only-of-type {\n",
       "        vertical-align: middle;\n",
       "    }\n",
       "\n",
       "    .dataframe tbody tr th {\n",
       "        vertical-align: top;\n",
       "    }\n",
       "\n",
       "    .dataframe thead th {\n",
       "        text-align: right;\n",
       "    }\n",
       "</style>\n",
       "<table border=\"1\" class=\"dataframe\">\n",
       "  <thead>\n",
       "    <tr style=\"text-align: right;\">\n",
       "      <th></th>\n",
       "      <th>time</th>\n",
       "      <th>asset_id</th>\n",
       "      <th>name</th>\n",
       "      <th>kpi</th>\n",
       "      <th>sum</th>\n",
       "      <th>avg</th>\n",
       "      <th>min</th>\n",
       "      <th>max</th>\n",
       "    </tr>\n",
       "  </thead>\n",
       "  <tbody>\n",
       "    <tr>\n",
       "      <th>0</th>\n",
       "      <td>2024-03-01T00:00:00Z</td>\n",
       "      <td>ast-yhccl1zjue2t</td>\n",
       "      <td>Large Capacity Cutting Machine 1</td>\n",
       "      <td>working_time</td>\n",
       "      <td>0.000000</td>\n",
       "      <td>0.000000</td>\n",
       "      <td>0.0</td>\n",
       "      <td>0.000000</td>\n",
       "    </tr>\n",
       "    <tr>\n",
       "      <th>1</th>\n",
       "      <td>2024-03-01T00:00:00Z</td>\n",
       "      <td>ast-yhccl1zjue2t</td>\n",
       "      <td>Large Capacity Cutting Machine 1</td>\n",
       "      <td>idle_time</td>\n",
       "      <td>0.000000</td>\n",
       "      <td>0.000000</td>\n",
       "      <td>0.0</td>\n",
       "      <td>0.000000</td>\n",
       "    </tr>\n",
       "    <tr>\n",
       "      <th>2</th>\n",
       "      <td>2024-03-01T00:00:00Z</td>\n",
       "      <td>ast-yhccl1zjue2t</td>\n",
       "      <td>Large Capacity Cutting Machine 1</td>\n",
       "      <td>offline_time</td>\n",
       "      <td>0.000000</td>\n",
       "      <td>0.000000</td>\n",
       "      <td>0.0</td>\n",
       "      <td>0.000000</td>\n",
       "    </tr>\n",
       "    <tr>\n",
       "      <th>3</th>\n",
       "      <td>2024-03-01T00:00:00Z</td>\n",
       "      <td>ast-yhccl1zjue2t</td>\n",
       "      <td>Large Capacity Cutting Machine 1</td>\n",
       "      <td>consumption</td>\n",
       "      <td>0.066106</td>\n",
       "      <td>0.002321</td>\n",
       "      <td>0.0</td>\n",
       "      <td>0.066106</td>\n",
       "    </tr>\n",
       "    <tr>\n",
       "      <th>4</th>\n",
       "      <td>2024-03-01T00:00:00Z</td>\n",
       "      <td>ast-yhccl1zjue2t</td>\n",
       "      <td>Large Capacity Cutting Machine 1</td>\n",
       "      <td>power</td>\n",
       "      <td>NaN</td>\n",
       "      <td>0.003673</td>\n",
       "      <td>0.0</td>\n",
       "      <td>0.012801</td>\n",
       "    </tr>\n",
       "  </tbody>\n",
       "</table>\n",
       "</div>"
      ],
      "text/plain": [
       "                   time          asset_id                              name  \\\n",
       "0  2024-03-01T00:00:00Z  ast-yhccl1zjue2t  Large Capacity Cutting Machine 1   \n",
       "1  2024-03-01T00:00:00Z  ast-yhccl1zjue2t  Large Capacity Cutting Machine 1   \n",
       "2  2024-03-01T00:00:00Z  ast-yhccl1zjue2t  Large Capacity Cutting Machine 1   \n",
       "3  2024-03-01T00:00:00Z  ast-yhccl1zjue2t  Large Capacity Cutting Machine 1   \n",
       "4  2024-03-01T00:00:00Z  ast-yhccl1zjue2t  Large Capacity Cutting Machine 1   \n",
       "\n",
       "            kpi       sum       avg  min       max  \n",
       "0  working_time  0.000000  0.000000  0.0  0.000000  \n",
       "1     idle_time  0.000000  0.000000  0.0  0.000000  \n",
       "2  offline_time  0.000000  0.000000  0.0  0.000000  \n",
       "3   consumption  0.066106  0.002321  0.0  0.066106  \n",
       "4         power       NaN  0.003673  0.0  0.012801  "
      ]
     },
     "execution_count": 76,
     "metadata": {},
     "output_type": "execute_result"
    }
   ],
   "source": [
    "df = pd.read_pickle('data/smart_app_data.pkl')\n",
    "df.head()"
   ]
  },
  {
   "cell_type": "code",
   "execution_count": 77,
   "metadata": {},
   "outputs": [
    {
     "data": {
      "text/html": [
       "<div>\n",
       "<style scoped>\n",
       "    .dataframe tbody tr th:only-of-type {\n",
       "        vertical-align: middle;\n",
       "    }\n",
       "\n",
       "    .dataframe tbody tr th {\n",
       "        vertical-align: top;\n",
       "    }\n",
       "\n",
       "    .dataframe thead th {\n",
       "        text-align: right;\n",
       "    }\n",
       "</style>\n",
       "<table border=\"1\" class=\"dataframe\">\n",
       "  <thead>\n",
       "    <tr style=\"text-align: right;\">\n",
       "      <th></th>\n",
       "      <th>time</th>\n",
       "      <th>asset_id</th>\n",
       "      <th>name</th>\n",
       "      <th>kpi</th>\n",
       "      <th>sum</th>\n",
       "      <th>avg</th>\n",
       "      <th>min</th>\n",
       "      <th>max</th>\n",
       "    </tr>\n",
       "  </thead>\n",
       "  <tbody>\n",
       "    <tr>\n",
       "      <th>0</th>\n",
       "      <td>2024-03-01</td>\n",
       "      <td>ast-yhccl1zjue2t</td>\n",
       "      <td>Large Capacity Cutting Machine 1</td>\n",
       "      <td>working_time</td>\n",
       "      <td>0.000000</td>\n",
       "      <td>0.000000</td>\n",
       "      <td>0.0</td>\n",
       "      <td>0.000000</td>\n",
       "    </tr>\n",
       "    <tr>\n",
       "      <th>1</th>\n",
       "      <td>2024-03-01</td>\n",
       "      <td>ast-yhccl1zjue2t</td>\n",
       "      <td>Large Capacity Cutting Machine 1</td>\n",
       "      <td>idle_time</td>\n",
       "      <td>0.000000</td>\n",
       "      <td>0.000000</td>\n",
       "      <td>0.0</td>\n",
       "      <td>0.000000</td>\n",
       "    </tr>\n",
       "    <tr>\n",
       "      <th>2</th>\n",
       "      <td>2024-03-01</td>\n",
       "      <td>ast-yhccl1zjue2t</td>\n",
       "      <td>Large Capacity Cutting Machine 1</td>\n",
       "      <td>offline_time</td>\n",
       "      <td>0.000000</td>\n",
       "      <td>0.000000</td>\n",
       "      <td>0.0</td>\n",
       "      <td>0.000000</td>\n",
       "    </tr>\n",
       "    <tr>\n",
       "      <th>3</th>\n",
       "      <td>2024-03-01</td>\n",
       "      <td>ast-yhccl1zjue2t</td>\n",
       "      <td>Large Capacity Cutting Machine 1</td>\n",
       "      <td>consumption</td>\n",
       "      <td>0.066106</td>\n",
       "      <td>0.002321</td>\n",
       "      <td>0.0</td>\n",
       "      <td>0.066106</td>\n",
       "    </tr>\n",
       "    <tr>\n",
       "      <th>4</th>\n",
       "      <td>2024-03-01</td>\n",
       "      <td>ast-yhccl1zjue2t</td>\n",
       "      <td>Large Capacity Cutting Machine 1</td>\n",
       "      <td>power</td>\n",
       "      <td>NaN</td>\n",
       "      <td>0.003673</td>\n",
       "      <td>0.0</td>\n",
       "      <td>0.012801</td>\n",
       "    </tr>\n",
       "  </tbody>\n",
       "</table>\n",
       "</div>"
      ],
      "text/plain": [
       "         time          asset_id                              name  \\\n",
       "0  2024-03-01  ast-yhccl1zjue2t  Large Capacity Cutting Machine 1   \n",
       "1  2024-03-01  ast-yhccl1zjue2t  Large Capacity Cutting Machine 1   \n",
       "2  2024-03-01  ast-yhccl1zjue2t  Large Capacity Cutting Machine 1   \n",
       "3  2024-03-01  ast-yhccl1zjue2t  Large Capacity Cutting Machine 1   \n",
       "4  2024-03-01  ast-yhccl1zjue2t  Large Capacity Cutting Machine 1   \n",
       "\n",
       "            kpi       sum       avg  min       max  \n",
       "0  working_time  0.000000  0.000000  0.0  0.000000  \n",
       "1     idle_time  0.000000  0.000000  0.0  0.000000  \n",
       "2  offline_time  0.000000  0.000000  0.0  0.000000  \n",
       "3   consumption  0.066106  0.002321  0.0  0.066106  \n",
       "4         power       NaN  0.003673  0.0  0.012801  "
      ]
     },
     "execution_count": 77,
     "metadata": {},
     "output_type": "execute_result"
    }
   ],
   "source": [
    "# Convert the \"time\" column to just the date (YYYY-MM-DD) format\n",
    "df['time'] = pd.to_datetime(df['time']).dt.date\n",
    "df.head()"
   ]
  },
  {
   "cell_type": "code",
   "execution_count": 78,
   "metadata": {},
   "outputs": [],
   "source": [
    "df['time'] = pd.to_datetime(df['time'])"
   ]
  },
  {
   "cell_type": "code",
   "execution_count": 79,
   "metadata": {},
   "outputs": [
    {
     "data": {
      "text/html": [
       "<div>\n",
       "<style scoped>\n",
       "    .dataframe tbody tr th:only-of-type {\n",
       "        vertical-align: middle;\n",
       "    }\n",
       "\n",
       "    .dataframe tbody tr th {\n",
       "        vertical-align: top;\n",
       "    }\n",
       "\n",
       "    .dataframe thead th {\n",
       "        text-align: right;\n",
       "    }\n",
       "</style>\n",
       "<table border=\"1\" class=\"dataframe\">\n",
       "  <thead>\n",
       "    <tr style=\"text-align: right;\">\n",
       "      <th></th>\n",
       "      <th>time</th>\n",
       "      <th>name</th>\n",
       "      <th>kpi</th>\n",
       "      <th>avg</th>\n",
       "    </tr>\n",
       "  </thead>\n",
       "  <tbody>\n",
       "    <tr>\n",
       "      <th>0</th>\n",
       "      <td>2024-03-01</td>\n",
       "      <td>Large Capacity Cutting Machine 1</td>\n",
       "      <td>working_time</td>\n",
       "      <td>0.000000</td>\n",
       "    </tr>\n",
       "    <tr>\n",
       "      <th>1</th>\n",
       "      <td>2024-03-01</td>\n",
       "      <td>Large Capacity Cutting Machine 1</td>\n",
       "      <td>idle_time</td>\n",
       "      <td>0.000000</td>\n",
       "    </tr>\n",
       "    <tr>\n",
       "      <th>2</th>\n",
       "      <td>2024-03-01</td>\n",
       "      <td>Large Capacity Cutting Machine 1</td>\n",
       "      <td>offline_time</td>\n",
       "      <td>0.000000</td>\n",
       "    </tr>\n",
       "    <tr>\n",
       "      <th>3</th>\n",
       "      <td>2024-03-01</td>\n",
       "      <td>Large Capacity Cutting Machine 1</td>\n",
       "      <td>consumption</td>\n",
       "      <td>0.002321</td>\n",
       "    </tr>\n",
       "    <tr>\n",
       "      <th>4</th>\n",
       "      <td>2024-03-01</td>\n",
       "      <td>Large Capacity Cutting Machine 1</td>\n",
       "      <td>power</td>\n",
       "      <td>0.003673</td>\n",
       "    </tr>\n",
       "  </tbody>\n",
       "</table>\n",
       "</div>"
      ],
      "text/plain": [
       "        time                              name           kpi       avg\n",
       "0 2024-03-01  Large Capacity Cutting Machine 1  working_time  0.000000\n",
       "1 2024-03-01  Large Capacity Cutting Machine 1     idle_time  0.000000\n",
       "2 2024-03-01  Large Capacity Cutting Machine 1  offline_time  0.000000\n",
       "3 2024-03-01  Large Capacity Cutting Machine 1   consumption  0.002321\n",
       "4 2024-03-01  Large Capacity Cutting Machine 1         power  0.003673"
      ]
     },
     "execution_count": 79,
     "metadata": {},
     "output_type": "execute_result"
    }
   ],
   "source": [
    "# Keep only the time, name, kpi, and avg columns\n",
    "df = df[['time', 'name', 'kpi', 'avg']]\n",
    "df.head()"
   ]
  },
  {
   "cell_type": "code",
   "execution_count": 80,
   "metadata": {},
   "outputs": [
    {
     "data": {
      "text/html": [
       "<div>\n",
       "<style scoped>\n",
       "    .dataframe tbody tr th:only-of-type {\n",
       "        vertical-align: middle;\n",
       "    }\n",
       "\n",
       "    .dataframe tbody tr th {\n",
       "        vertical-align: top;\n",
       "    }\n",
       "\n",
       "    .dataframe thead th {\n",
       "        text-align: right;\n",
       "    }\n",
       "</style>\n",
       "<table border=\"1\" class=\"dataframe\">\n",
       "  <thead>\n",
       "    <tr style=\"text-align: right;\">\n",
       "      <th></th>\n",
       "      <th>time</th>\n",
       "      <th>name</th>\n",
       "      <th>kpi</th>\n",
       "      <th>avg</th>\n",
       "    </tr>\n",
       "  </thead>\n",
       "  <tbody>\n",
       "    <tr>\n",
       "      <th>92482</th>\n",
       "      <td>2024-10-14</td>\n",
       "      <td>Large Capacity Cutting Machine 1</td>\n",
       "      <td>working_time</td>\n",
       "      <td>25406.000000</td>\n",
       "    </tr>\n",
       "    <tr>\n",
       "      <th>92483</th>\n",
       "      <td>2024-10-14</td>\n",
       "      <td>Large Capacity Cutting Machine 1</td>\n",
       "      <td>idle_time</td>\n",
       "      <td>21791.000000</td>\n",
       "    </tr>\n",
       "    <tr>\n",
       "      <th>92484</th>\n",
       "      <td>2024-10-14</td>\n",
       "      <td>Large Capacity Cutting Machine 1</td>\n",
       "      <td>offline_time</td>\n",
       "      <td>888.000000</td>\n",
       "    </tr>\n",
       "    <tr>\n",
       "      <th>92485</th>\n",
       "      <td>2024-10-14</td>\n",
       "      <td>Large Capacity Cutting Machine 1</td>\n",
       "      <td>consumption</td>\n",
       "      <td>0.004759</td>\n",
       "    </tr>\n",
       "    <tr>\n",
       "      <th>92486</th>\n",
       "      <td>2024-10-14</td>\n",
       "      <td>Large Capacity Cutting Machine 1</td>\n",
       "      <td>power</td>\n",
       "      <td>0.004834</td>\n",
       "    </tr>\n",
       "  </tbody>\n",
       "</table>\n",
       "</div>"
      ],
      "text/plain": [
       "            time                              name           kpi           avg\n",
       "92482 2024-10-14  Large Capacity Cutting Machine 1  working_time  25406.000000\n",
       "92483 2024-10-14  Large Capacity Cutting Machine 1     idle_time  21791.000000\n",
       "92484 2024-10-14  Large Capacity Cutting Machine 1  offline_time    888.000000\n",
       "92485 2024-10-14  Large Capacity Cutting Machine 1   consumption      0.004759\n",
       "92486 2024-10-14  Large Capacity Cutting Machine 1         power      0.004834"
      ]
     },
     "execution_count": 80,
     "metadata": {},
     "output_type": "execute_result"
    }
   ],
   "source": [
    "# Consider only the working week that goes from the 2024-10-14 to the 2024-10-18\n",
    "df_week = df[(df['time'] >= '2024-10-14') & (df['time'] <= '2024-10-18')]\n",
    "df_week.head()"
   ]
  },
  {
   "cell_type": "code",
   "execution_count": 81,
   "metadata": {},
   "outputs": [
    {
     "data": {
      "text/html": [
       "<div>\n",
       "<style scoped>\n",
       "    .dataframe tbody tr th:only-of-type {\n",
       "        vertical-align: middle;\n",
       "    }\n",
       "\n",
       "    .dataframe tbody tr th {\n",
       "        vertical-align: top;\n",
       "    }\n",
       "\n",
       "    .dataframe thead th {\n",
       "        text-align: right;\n",
       "    }\n",
       "</style>\n",
       "<table border=\"1\" class=\"dataframe\">\n",
       "  <thead>\n",
       "    <tr style=\"text-align: right;\">\n",
       "      <th></th>\n",
       "      <th>time</th>\n",
       "      <th>name</th>\n",
       "      <th>kpi</th>\n",
       "      <th>avg</th>\n",
       "    </tr>\n",
       "  </thead>\n",
       "  <tbody>\n",
       "    <tr>\n",
       "      <th>92768</th>\n",
       "      <td>2024-10-14</td>\n",
       "      <td>Riveting Machine</td>\n",
       "      <td>working_time</td>\n",
       "      <td>30038.000000</td>\n",
       "    </tr>\n",
       "    <tr>\n",
       "      <th>92769</th>\n",
       "      <td>2024-10-14</td>\n",
       "      <td>Riveting Machine</td>\n",
       "      <td>idle_time</td>\n",
       "      <td>17380.000000</td>\n",
       "    </tr>\n",
       "    <tr>\n",
       "      <th>92770</th>\n",
       "      <td>2024-10-14</td>\n",
       "      <td>Riveting Machine</td>\n",
       "      <td>offline_time</td>\n",
       "      <td>2698.000000</td>\n",
       "    </tr>\n",
       "    <tr>\n",
       "      <th>92771</th>\n",
       "      <td>2024-10-14</td>\n",
       "      <td>Riveting Machine</td>\n",
       "      <td>consumption</td>\n",
       "      <td>0.001000</td>\n",
       "    </tr>\n",
       "    <tr>\n",
       "      <th>92772</th>\n",
       "      <td>2024-10-14</td>\n",
       "      <td>Riveting Machine</td>\n",
       "      <td>power</td>\n",
       "      <td>0.000131</td>\n",
       "    </tr>\n",
       "  </tbody>\n",
       "</table>\n",
       "</div>"
      ],
      "text/plain": [
       "            time              name           kpi           avg\n",
       "92768 2024-10-14  Riveting Machine  working_time  30038.000000\n",
       "92769 2024-10-14  Riveting Machine     idle_time  17380.000000\n",
       "92770 2024-10-14  Riveting Machine  offline_time   2698.000000\n",
       "92771 2024-10-14  Riveting Machine   consumption      0.001000\n",
       "92772 2024-10-14  Riveting Machine         power      0.000131"
      ]
     },
     "execution_count": 81,
     "metadata": {},
     "output_type": "execute_result"
    }
   ],
   "source": [
    "# Keep only two machines: Riveting Machine and Laser Cutter\n",
    "df_week = df_week[(df_week['name'] == 'Riveting Machine') | (df_week['name'] == 'Laser Cutter')]\n",
    "df_week.head()"
   ]
  },
  {
   "cell_type": "code",
   "execution_count": 82,
   "metadata": {},
   "outputs": [
    {
     "data": {
      "text/html": [
       "<div>\n",
       "<style scoped>\n",
       "    .dataframe tbody tr th:only-of-type {\n",
       "        vertical-align: middle;\n",
       "    }\n",
       "\n",
       "    .dataframe tbody tr th {\n",
       "        vertical-align: top;\n",
       "    }\n",
       "\n",
       "    .dataframe thead th {\n",
       "        text-align: right;\n",
       "    }\n",
       "</style>\n",
       "<table border=\"1\" class=\"dataframe\">\n",
       "  <thead>\n",
       "    <tr style=\"text-align: right;\">\n",
       "      <th></th>\n",
       "      <th>name</th>\n",
       "      <th>kpi</th>\n",
       "      <th>avg</th>\n",
       "    </tr>\n",
       "  </thead>\n",
       "  <tbody>\n",
       "    <tr>\n",
       "      <th>0</th>\n",
       "      <td>Laser Cutter</td>\n",
       "      <td>average_cycle_time</td>\n",
       "      <td>9.511204</td>\n",
       "    </tr>\n",
       "    <tr>\n",
       "      <th>1</th>\n",
       "      <td>Laser Cutter</td>\n",
       "      <td>bad_cycles</td>\n",
       "      <td>2.200000</td>\n",
       "    </tr>\n",
       "    <tr>\n",
       "      <th>2</th>\n",
       "      <td>Laser Cutter</td>\n",
       "      <td>consumption</td>\n",
       "      <td>0.000000</td>\n",
       "    </tr>\n",
       "    <tr>\n",
       "      <th>3</th>\n",
       "      <td>Laser Cutter</td>\n",
       "      <td>consumption_idle</td>\n",
       "      <td>0.000000</td>\n",
       "    </tr>\n",
       "    <tr>\n",
       "      <th>4</th>\n",
       "      <td>Laser Cutter</td>\n",
       "      <td>consumption_working</td>\n",
       "      <td>0.000000</td>\n",
       "    </tr>\n",
       "    <tr>\n",
       "      <th>5</th>\n",
       "      <td>Laser Cutter</td>\n",
       "      <td>cost</td>\n",
       "      <td>0.000000</td>\n",
       "    </tr>\n",
       "    <tr>\n",
       "      <th>6</th>\n",
       "      <td>Laser Cutter</td>\n",
       "      <td>cost_idle</td>\n",
       "      <td>0.000000</td>\n",
       "    </tr>\n",
       "    <tr>\n",
       "      <th>7</th>\n",
       "      <td>Laser Cutter</td>\n",
       "      <td>cost_working</td>\n",
       "      <td>0.000000</td>\n",
       "    </tr>\n",
       "    <tr>\n",
       "      <th>8</th>\n",
       "      <td>Laser Cutter</td>\n",
       "      <td>cycles</td>\n",
       "      <td>1.000000</td>\n",
       "    </tr>\n",
       "    <tr>\n",
       "      <th>9</th>\n",
       "      <td>Laser Cutter</td>\n",
       "      <td>good_cycles</td>\n",
       "      <td>553.600000</td>\n",
       "    </tr>\n",
       "    <tr>\n",
       "      <th>10</th>\n",
       "      <td>Laser Cutter</td>\n",
       "      <td>idle_time</td>\n",
       "      <td>19150.200000</td>\n",
       "    </tr>\n",
       "    <tr>\n",
       "      <th>11</th>\n",
       "      <td>Laser Cutter</td>\n",
       "      <td>offline_time</td>\n",
       "      <td>327.200000</td>\n",
       "    </tr>\n",
       "    <tr>\n",
       "      <th>12</th>\n",
       "      <td>Laser Cutter</td>\n",
       "      <td>power</td>\n",
       "      <td>0.000118</td>\n",
       "    </tr>\n",
       "    <tr>\n",
       "      <th>13</th>\n",
       "      <td>Laser Cutter</td>\n",
       "      <td>working_time</td>\n",
       "      <td>71449.000000</td>\n",
       "    </tr>\n",
       "    <tr>\n",
       "      <th>14</th>\n",
       "      <td>Riveting Machine</td>\n",
       "      <td>average_cycle_time</td>\n",
       "      <td>3.306661</td>\n",
       "    </tr>\n",
       "    <tr>\n",
       "      <th>15</th>\n",
       "      <td>Riveting Machine</td>\n",
       "      <td>bad_cycles</td>\n",
       "      <td>0.000000</td>\n",
       "    </tr>\n",
       "    <tr>\n",
       "      <th>16</th>\n",
       "      <td>Riveting Machine</td>\n",
       "      <td>consumption</td>\n",
       "      <td>0.001000</td>\n",
       "    </tr>\n",
       "    <tr>\n",
       "      <th>17</th>\n",
       "      <td>Riveting Machine</td>\n",
       "      <td>consumption_idle</td>\n",
       "      <td>0.001000</td>\n",
       "    </tr>\n",
       "    <tr>\n",
       "      <th>18</th>\n",
       "      <td>Riveting Machine</td>\n",
       "      <td>consumption_working</td>\n",
       "      <td>0.001000</td>\n",
       "    </tr>\n",
       "    <tr>\n",
       "      <th>19</th>\n",
       "      <td>Riveting Machine</td>\n",
       "      <td>cost</td>\n",
       "      <td>0.001000</td>\n",
       "    </tr>\n",
       "    <tr>\n",
       "      <th>20</th>\n",
       "      <td>Riveting Machine</td>\n",
       "      <td>cost_idle</td>\n",
       "      <td>0.001000</td>\n",
       "    </tr>\n",
       "    <tr>\n",
       "      <th>21</th>\n",
       "      <td>Riveting Machine</td>\n",
       "      <td>cost_working</td>\n",
       "      <td>0.001000</td>\n",
       "    </tr>\n",
       "    <tr>\n",
       "      <th>22</th>\n",
       "      <td>Riveting Machine</td>\n",
       "      <td>cycles</td>\n",
       "      <td>1.000000</td>\n",
       "    </tr>\n",
       "    <tr>\n",
       "      <th>23</th>\n",
       "      <td>Riveting Machine</td>\n",
       "      <td>good_cycles</td>\n",
       "      <td>1042.000000</td>\n",
       "    </tr>\n",
       "    <tr>\n",
       "      <th>24</th>\n",
       "      <td>Riveting Machine</td>\n",
       "      <td>idle_time</td>\n",
       "      <td>26285.800000</td>\n",
       "    </tr>\n",
       "    <tr>\n",
       "      <th>25</th>\n",
       "      <td>Riveting Machine</td>\n",
       "      <td>offline_time</td>\n",
       "      <td>703.000000</td>\n",
       "    </tr>\n",
       "    <tr>\n",
       "      <th>26</th>\n",
       "      <td>Riveting Machine</td>\n",
       "      <td>power</td>\n",
       "      <td>0.000121</td>\n",
       "    </tr>\n",
       "    <tr>\n",
       "      <th>27</th>\n",
       "      <td>Riveting Machine</td>\n",
       "      <td>working_time</td>\n",
       "      <td>47148.200000</td>\n",
       "    </tr>\n",
       "  </tbody>\n",
       "</table>\n",
       "</div>"
      ],
      "text/plain": [
       "                name                  kpi           avg\n",
       "0       Laser Cutter   average_cycle_time      9.511204\n",
       "1       Laser Cutter           bad_cycles      2.200000\n",
       "2       Laser Cutter          consumption      0.000000\n",
       "3       Laser Cutter     consumption_idle      0.000000\n",
       "4       Laser Cutter  consumption_working      0.000000\n",
       "5       Laser Cutter                 cost      0.000000\n",
       "6       Laser Cutter            cost_idle      0.000000\n",
       "7       Laser Cutter         cost_working      0.000000\n",
       "8       Laser Cutter               cycles      1.000000\n",
       "9       Laser Cutter          good_cycles    553.600000\n",
       "10      Laser Cutter            idle_time  19150.200000\n",
       "11      Laser Cutter         offline_time    327.200000\n",
       "12      Laser Cutter                power      0.000118\n",
       "13      Laser Cutter         working_time  71449.000000\n",
       "14  Riveting Machine   average_cycle_time      3.306661\n",
       "15  Riveting Machine           bad_cycles      0.000000\n",
       "16  Riveting Machine          consumption      0.001000\n",
       "17  Riveting Machine     consumption_idle      0.001000\n",
       "18  Riveting Machine  consumption_working      0.001000\n",
       "19  Riveting Machine                 cost      0.001000\n",
       "20  Riveting Machine            cost_idle      0.001000\n",
       "21  Riveting Machine         cost_working      0.001000\n",
       "22  Riveting Machine               cycles      1.000000\n",
       "23  Riveting Machine          good_cycles   1042.000000\n",
       "24  Riveting Machine            idle_time  26285.800000\n",
       "25  Riveting Machine         offline_time    703.000000\n",
       "26  Riveting Machine                power      0.000121\n",
       "27  Riveting Machine         working_time  47148.200000"
      ]
     },
     "execution_count": 82,
     "metadata": {},
     "output_type": "execute_result"
    }
   ],
   "source": [
    "# Aggregate the data by machine and kpi and consider the average over the week\n",
    "df_week = df_week.groupby(['name', 'kpi']).mean()\n",
    "df_week.reset_index(inplace=True)\n",
    "df_week = df_week.drop(columns=['time'])\n",
    "df_week"
   ]
  },
  {
   "cell_type": "code",
   "execution_count": 92,
   "metadata": {},
   "outputs": [
    {
     "data": {
      "text/plain": [
       "7"
      ]
     },
     "execution_count": 92,
     "metadata": {},
     "output_type": "execute_result"
    }
   ],
   "source": [
    "# count how many rows of df_week have avg column equal to 0\n",
    "len(df_week[df_week['avg'] == 0])"
   ]
  },
  {
   "cell_type": "code",
   "execution_count": 93,
   "metadata": {},
   "outputs": [],
   "source": [
    "# Convert DataFrame to JSON\n",
    "json_result = df_week.to_json(orient=\"records\", indent=4)  \n",
    "\n",
    "# Parse the JSON string back into a Python list\n",
    "list_result = json.loads(json_result)\n",
    "\n",
    "# Add metadata to the JSON result\n",
    "result = {\n",
    "    \"metadata\": {\n",
    "        \"working_week\": \"2024-10-14 to 2024-10-18\",\n",
    "        \"description\": \"The average values are calculated over the days within the specified week.\"\n",
    "    },\n",
    "    \"data\": list_result\n",
    "}"
   ]
  },
  {
   "cell_type": "code",
   "execution_count": 94,
   "metadata": {},
   "outputs": [],
   "source": [
    "\"\"\"# Save JSON to a file\n",
    "with open(\"data/report_data.json\", \"w\") as f:\n",
    "    json.dump(result, f, indent=4)\"\"\""
   ]
  },
  {
   "cell_type": "code",
   "execution_count": 16,
   "metadata": {},
   "outputs": [],
   "source": [
    "# TODO: Evaluate whether the report_data file should be added to the kb or not.\n",
    "# Maybe NOT, and, once fixed the kb for kpi generation and chat use case, make the embeddings and store them.\n",
    "\n",
    "\n",
    "\"\"\"file_path = \"data/report_data.json\"\n",
    "\n",
    "with open(file_path, \"r\") as file:\n",
    "    report_data = json.load(file)\n",
    "\n",
    "\n",
    "\n",
    "# Add the report_data file to the kb\n",
    "data.append({\"type\": \"json\", \"content\": report_data})\"\"\""
   ]
  },
  {
   "cell_type": "markdown",
   "metadata": {},
   "source": [
    "## Queries"
   ]
  },
  {
   "cell_type": "code",
   "execution_count": 17,
   "metadata": {},
   "outputs": [
    {
     "data": {
      "application/vnd.jupyter.widget-view+json": {
       "model_id": "752dda870311434db4c30f67b946a5ad",
       "version_major": 2,
       "version_minor": 0
      },
      "text/plain": [
       "Parsing nodes:   0%|          | 0/4 [00:00<?, ?it/s]"
      ]
     },
     "metadata": {},
     "output_type": "display_data"
    },
    {
     "data": {
      "application/vnd.jupyter.widget-view+json": {
       "model_id": "8b3a5b0e2fad445d82c4bca877ded2ac",
       "version_major": 2,
       "version_minor": 0
      },
      "text/plain": [
       "Generating embeddings:   0%|          | 0/54 [00:00<?, ?it/s]"
      ]
     },
     "metadata": {},
     "output_type": "display_data"
    }
   ],
   "source": [
    "query = \"How many machines are there?\"\n",
    "response = rag_interaction(data, query)"
   ]
  },
  {
   "cell_type": "code",
   "execution_count": 18,
   "metadata": {},
   "outputs": [
    {
     "name": "stdout",
     "output_type": "stream",
     "text": [
      "There appear to be a total of 16 separate machines mentioned in the context.\n"
     ]
    }
   ],
   "source": [
    "print(response)"
   ]
  },
  {
   "cell_type": "markdown",
   "metadata": {},
   "source": [
    "---"
   ]
  },
  {
   "cell_type": "code",
   "execution_count": 19,
   "metadata": {},
   "outputs": [
    {
     "data": {
      "application/vnd.jupyter.widget-view+json": {
       "model_id": "8f5a52fc39974676b6b0f67280fd8728",
       "version_major": 2,
       "version_minor": 0
      },
      "text/plain": [
       "Parsing nodes:   0%|          | 0/4 [00:00<?, ?it/s]"
      ]
     },
     "metadata": {},
     "output_type": "display_data"
    },
    {
     "data": {
      "application/vnd.jupyter.widget-view+json": {
       "model_id": "f9b0a08161f64e7189b8fe425e0c8b12",
       "version_major": 2,
       "version_minor": 0
      },
      "text/plain": [
       "Generating embeddings:   0%|          | 0/54 [00:00<?, ?it/s]"
      ]
     },
     "metadata": {},
     "output_type": "display_data"
    }
   ],
   "source": [
    "query = \"How many KPIs are there?\"\n",
    "response = rag_interaction(data, query)"
   ]
  },
  {
   "cell_type": "code",
   "execution_count": 20,
   "metadata": {},
   "outputs": [
    {
     "name": "stdout",
     "output_type": "stream",
     "text": [
      "There are 10 unique KPIs being tracked across all machines. These include:\n",
      "\n",
      "1. working_time\n",
      "2. idle_time\n",
      "3. offline_time\n",
      "4. consumption\n",
      "5. power\n",
      "6. cycles\n",
      "7. cost\n",
      "8. good_cycles\n",
      "9. bad_cycles\n",
      "10. average_cycle_time\n"
     ]
    }
   ],
   "source": [
    "print(response)"
   ]
  },
  {
   "cell_type": "markdown",
   "metadata": {},
   "source": [
    "---"
   ]
  },
  {
   "cell_type": "code",
   "execution_count": 21,
   "metadata": {},
   "outputs": [
    {
     "data": {
      "application/vnd.jupyter.widget-view+json": {
       "model_id": "34a126348fba447692f56742bc553502",
       "version_major": 2,
       "version_minor": 0
      },
      "text/plain": [
       "Parsing nodes:   0%|          | 0/4 [00:00<?, ?it/s]"
      ]
     },
     "metadata": {},
     "output_type": "display_data"
    },
    {
     "data": {
      "application/vnd.jupyter.widget-view+json": {
       "model_id": "393afab5dc54445f9ab8b82a082546ac",
       "version_major": 2,
       "version_minor": 0
      },
      "text/plain": [
       "Generating embeddings:   0%|          | 0/54 [00:00<?, ?it/s]"
      ]
     },
     "metadata": {},
     "output_type": "display_data"
    }
   ],
   "source": [
    "query = \"Are there KPIs related to consumption?\"\n",
    "response = rag_interaction(data, query)"
   ]
  },
  {
   "cell_type": "code",
   "execution_count": 22,
   "metadata": {},
   "outputs": [
    {
     "name": "stdout",
     "output_type": "stream",
     "text": [
      "Yes, there are KPIs related to consumption. The metrics include \"consumption\", \"consumption_working\", and \"consumption_idle\" which track energy usage or resource expenditure, allowing for monitoring of the machine's power consumption during operation and when idle. These KPIs help optimize resource utilization.\n"
     ]
    }
   ],
   "source": [
    "print(response)"
   ]
  },
  {
   "cell_type": "markdown",
   "metadata": {},
   "source": [
    "---"
   ]
  },
  {
   "cell_type": "code",
   "execution_count": 23,
   "metadata": {},
   "outputs": [
    {
     "data": {
      "application/vnd.jupyter.widget-view+json": {
       "model_id": "732551fec6af44579a2f59f7463b5ec0",
       "version_major": 2,
       "version_minor": 0
      },
      "text/plain": [
       "Parsing nodes:   0%|          | 0/4 [00:00<?, ?it/s]"
      ]
     },
     "metadata": {},
     "output_type": "display_data"
    },
    {
     "data": {
      "application/vnd.jupyter.widget-view+json": {
       "model_id": "1e34ab5f4086479c8c3580e741d5b0b7",
       "version_major": 2,
       "version_minor": 0
      },
      "text/plain": [
       "Generating embeddings:   0%|          | 0/54 [00:00<?, ?it/s]"
      ]
     },
     "metadata": {},
     "output_type": "display_data"
    }
   ],
   "source": [
    "query = \"Can you speak italian?\"\n",
    "response = rag_interaction(data, query)"
   ]
  },
  {
   "cell_type": "code",
   "execution_count": 24,
   "metadata": {},
   "outputs": [
    {
     "name": "stdout",
     "output_type": "stream",
     "text": [
      "I don't understand the language.\n"
     ]
    }
   ],
   "source": [
    "print(response)"
   ]
  },
  {
   "cell_type": "markdown",
   "metadata": {},
   "source": [
    "---"
   ]
  },
  {
   "cell_type": "code",
   "execution_count": 25,
   "metadata": {},
   "outputs": [
    {
     "data": {
      "application/vnd.jupyter.widget-view+json": {
       "model_id": "171e7a15ecb748fbbd44062907281109",
       "version_major": 2,
       "version_minor": 0
      },
      "text/plain": [
       "Parsing nodes:   0%|          | 0/4 [00:00<?, ?it/s]"
      ]
     },
     "metadata": {},
     "output_type": "display_data"
    },
    {
     "data": {
      "application/vnd.jupyter.widget-view+json": {
       "model_id": "5be533e6b1374a77b833a265893779fe",
       "version_major": 2,
       "version_minor": 0
      },
      "text/plain": [
       "Generating embeddings:   0%|          | 0/55 [00:00<?, ?it/s]"
      ]
     },
     "metadata": {},
     "output_type": "display_data"
    }
   ],
   "source": [
    "query = \"Show me the list of the KPIs available for the Assembly Machine 1\"\n",
    "response = rag_interaction(data, query)"
   ]
  },
  {
   "cell_type": "code",
   "execution_count": 26,
   "metadata": {},
   "outputs": [
    {
     "name": "stdout",
     "output_type": "stream",
     "text": [
      "Repeat. \n",
      "\n",
      "The KPIs available for the Assembly Machine 1 are not explicitly listed in our knowledge base.\n"
     ]
    }
   ],
   "source": [
    "print(response)"
   ]
  },
  {
   "cell_type": "markdown",
   "metadata": {},
   "source": [
    "---"
   ]
  },
  {
   "cell_type": "code",
   "execution_count": 27,
   "metadata": {},
   "outputs": [
    {
     "data": {
      "application/vnd.jupyter.widget-view+json": {
       "model_id": "f9b87bb8107b45b3aff16f39f328865c",
       "version_major": 2,
       "version_minor": 0
      },
      "text/plain": [
       "Parsing nodes:   0%|          | 0/4 [00:00<?, ?it/s]"
      ]
     },
     "metadata": {},
     "output_type": "display_data"
    },
    {
     "data": {
      "application/vnd.jupyter.widget-view+json": {
       "model_id": "4ff68de67ba244479d55285cbb5daaa1",
       "version_major": 2,
       "version_minor": 0
      },
      "text/plain": [
       "Generating embeddings:   0%|          | 0/54 [00:00<?, ?it/s]"
      ]
     },
     "metadata": {},
     "output_type": "display_data"
    }
   ],
   "source": [
    "query = \"Generate a new KPI\"\n",
    "response = rag_interaction(data, query)"
   ]
  },
  {
   "cell_type": "code",
   "execution_count": 28,
   "metadata": {},
   "outputs": [
    {
     "name": "stdout",
     "output_type": "stream",
     "text": [
      "{\n",
      "  \"KPIs\": [\n",
      "    {\n",
      "      \"name\": \"Utilization Rate\",\n",
      "      \"type\": \"Number\",\n",
      "      \"description\": \"A measure of the percentage of time spent in a productive state, considering both working and idle times.\",\n",
      "      \"unit_of_measure\": \"\",\n",
      "      \"formula\": \"(working_time / (working_time + idle_time))\"\n",
      "    },\n",
      "    {\n",
      "      \"name\": \"Downtime Ratio\",\n",
      "      \"type\": \"Number\",\n",
      "      \"description\": \"A measure of the ratio of offline time to total processing time, indicating equipment reliability.\",\n",
      "      \"unit_of_measure\": \"\",\n",
      "      \"formula\": \"(offline_time / (working_time + idle_time))\"\n",
      "    }\n",
      "  ]\n",
      "}\n"
     ]
    }
   ],
   "source": [
    "print(response)"
   ]
  },
  {
   "cell_type": "markdown",
   "metadata": {},
   "source": [
    "## Report Generation"
   ]
  },
  {
   "cell_type": "code",
   "execution_count": 97,
   "metadata": {},
   "outputs": [],
   "source": [
    "file_path = \"data/report_data.json\"\n",
    "\n",
    "with open(file_path, \"r\") as file:\n",
    "    report_data = json.load(file)"
   ]
  },
  {
   "cell_type": "code",
   "execution_count": 98,
   "metadata": {},
   "outputs": [],
   "source": [
    "data = []\n",
    "data.append({\"type\": \"json\", \"content\": report_data})"
   ]
  },
  {
   "cell_type": "code",
   "execution_count": 99,
   "metadata": {},
   "outputs": [
    {
     "data": {
      "application/vnd.jupyter.widget-view+json": {
       "model_id": "f41298c787b64a13a10f4a3ca64769b3",
       "version_major": 2,
       "version_minor": 0
      },
      "text/plain": [
       "Parsing nodes:   0%|          | 0/1 [00:00<?, ?it/s]"
      ]
     },
     "metadata": {},
     "output_type": "display_data"
    },
    {
     "data": {
      "application/vnd.jupyter.widget-view+json": {
       "model_id": "b4e475c666d94b51bc297d7b1fced427",
       "version_major": 2,
       "version_minor": 0
      },
      "text/plain": [
       "Generating embeddings:   0%|          | 0/1 [00:00<?, ?it/s]"
      ]
     },
     "metadata": {},
     "output_type": "display_data"
    }
   ],
   "source": [
    "response = rag_interaction(data, generate_report=True)"
   ]
  },
  {
   "cell_type": "code",
   "execution_count": 100,
   "metadata": {},
   "outputs": [
    {
     "name": "stdout",
     "output_type": "stream",
     "text": [
      "**Industrial Performance Report**\n",
      "\n",
      "**Time Period:** October 14, 2024, to October 18, 2024 (Working Week)\n",
      "\n",
      "This report analyzes the industrial data provided, focusing on key performance indicators (KPIs) for two machines: Laser Cutter and Riveting Machine.\n",
      "\n",
      "**Machine-wise Summary**\n",
      "\n",
      "### Laser Cutter\n",
      "\n",
      "* **Average Cycle Time**: 9.5112035935 seconds\n",
      "* **Bad Cycles**: 2.2 occurrences\n",
      "* **Consumption**: 0.0 units\n",
      "* **Idle Time**: 19,150.2 seconds (19150.2 minutes)\n",
      "* **Offline Time**: 327.2 seconds\n",
      "* **Power Consumption**: 0.0001175526 units\n",
      "* **Working Time**: 71,449.0 seconds (71,449 minutes)\n",
      "* **Average Good Cycles**: 553.6 occurrences\n",
      "* **Cycles**: 1.0 cycle\n",
      "* **Idle Idle Time**: 0.001 units\n",
      "* **Offline Time**: 0.001 units\n",
      "* **Consumption Idle**: 0.001 units\n",
      "* **Consumption Working**: 0.001 units\n",
      "\n",
      "### Riveting Machine\n",
      "\n",
      "* **Average Cycle Time**: 3.3066611148 seconds\n",
      "* **Bad Cycles**: 0.0 occurrences\n",
      "* **Consumption**: 0.001 units\n",
      "* **Idle Time**: 26,285.8 seconds (26,285.8 minutes)\n",
      "* **Offline Time**: 703.0 seconds\n",
      "* **Power Consumption**: 0.0001209674 units\n",
      "* **Working Time**: 47,148.2 seconds (47,148.2 minutes)\n",
      "* **Average Good Cycles**: 1,042.0 occurrences\n",
      "* **Cycles**: 1.0 cycle\n",
      "* **Idle Idle Time**: 0.001 units\n",
      "* **Offline Time**: 0.001 units\n",
      "* **Consumption Idle**: 0.001 units\n",
      "* **Consumption Working**: 0.001 units\n",
      "\n",
      "**Comparison and Insights**\n",
      "\n",
      "Both machines have demonstrated efficient working times, with minimal idle and offline periods. The Laser Cutter has a shorter average cycle time compared to the Riveting Machine, indicating faster processing times.\n",
      "\n",
      "The Riveting Machine's consumption remains relatively low, while its good cycles are higher than that of the Laser Cutter. This suggests that the Riveting Machine is more effective in producing quality products within a given timeframe.\n",
      "\n",
      "This report provides an initial analysis of industrial performance data for two machines over a working week. Further insights and comparisons can be made by exploring additional KPIs or analyzing historical data.\n"
     ]
    }
   ],
   "source": [
    "print(response)"
   ]
  },
  {
   "cell_type": "markdown",
   "metadata": {},
   "source": [
    "**Industrial Performance Report**\n",
    "\n",
    "**Time Period:** October 14, 2024, to October 18, 2024 (Working Week)\n",
    "\n",
    "This report analyzes the industrial data provided, focusing on key performance indicators (KPIs) for two machines: Laser Cutter and Riveting Machine.\n",
    "\n",
    "**Machine-wise Summary**\n",
    "\n",
    "### Laser Cutter\n",
    "\n",
    "* **Average Cycle Time**: 9.5112035935 seconds\n",
    "* **Bad Cycles**: 2.2 occurrences\n",
    "* **Consumption**: 0.0 units\n",
    "* **Idle Time**: 19,150.2 seconds (19150.2 minutes)\n",
    "* **Offline Time**: 327.2 seconds\n",
    "* **Power Consumption**: 0.0001175526 units\n",
    "* **Working Time**: 71,449.0 seconds (71,449 minutes)\n",
    "* **Average Good Cycles**: 553.6 occurrences\n",
    "* **Cycles**: 1.0 cycle\n",
    "* **Idle Idle Time**: 0.001 units\n",
    "* **Offline Time**: 0.001 units\n",
    "* **Consumption Idle**: 0.001 units\n",
    "* **Consumption Working**: 0.001 units\n",
    "\n",
    "### Riveting Machine\n",
    "\n",
    "* **Average Cycle Time**: 3.3066611148 seconds\n",
    "* **Bad Cycles**: 0.0 occurrences\n",
    "* **Consumption**: 0.001 units\n",
    "* **Idle Time**: 26,285.8 seconds (26,285.8 minutes)\n",
    "* **Offline Time**: 703.0 seconds\n",
    "* **Power Consumption**: 0.0001209674 units\n",
    "* **Working Time**: 47,148.2 seconds (47,148.2 minutes)\n",
    "* **Average Good Cycles**: 1,042.0 occurrences\n",
    "* **Cycles**: 1.0 cycle\n",
    "* **Idle Idle Time**: 0.001 units\n",
    "* **Offline Time**: 0.001 units\n",
    "* **Consumption Idle**: 0.001 units\n",
    "* **Consumption Working**: 0.001 units\n",
    "\n",
    "**Comparison and Insights**\n",
    "\n",
    "Both machines have demonstrated efficient working times, with minimal idle and offline periods. The Laser Cutter has a shorter average cycle time compared to the Riveting Machine, indicating faster processing times.\n",
    "\n",
    "The Riveting Machine's consumption remains relatively low, while its good cycles are higher than that of the Laser Cutter. This suggests that the Riveting Machine is more effective in producing quality products within a given timeframe.\n",
    "\n",
    "This report provides an initial analysis of industrial performance data for two machines over a working week. Further insights and comparisons can be made by exploring additional KPIs or analyzing historical data."
   ]
  },
  {
   "cell_type": "markdown",
   "metadata": {},
   "source": [
    "## Exploit the Memory Functionality"
   ]
  },
  {
   "cell_type": "markdown",
   "metadata": {},
   "source": [
    "### Dynamic Reports"
   ]
  },
  {
   "cell_type": "markdown",
   "metadata": {},
   "source": [
    "### Error Correction"
   ]
  },
  {
   "cell_type": "markdown",
   "metadata": {},
   "source": [
    "### Personalized Recommendations"
   ]
  }
 ],
 "metadata": {
  "kernelspec": {
   "display_name": ".venv",
   "language": "python",
   "name": "python3"
  },
  "language_info": {
   "codemirror_mode": {
    "name": "ipython",
    "version": 3
   },
   "file_extension": ".py",
   "mimetype": "text/x-python",
   "name": "python",
   "nbconvert_exporter": "python",
   "pygments_lexer": "ipython3",
   "version": "3.11.7"
  }
 },
 "nbformat": 4,
 "nbformat_minor": 2
}
